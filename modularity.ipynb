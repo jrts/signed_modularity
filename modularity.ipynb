{
 "cells": [
  {
   "cell_type": "code",
   "execution_count": 2,
   "metadata": {},
   "outputs": [],
   "source": [
    "import os\n",
    "import numpy as np\n",
    "from bct import modularity\n",
    "\n",
    "from signed_modularity import modularity_louvain_und_sign\n",
    "from itertools import combinations"
   ]
  },
  {
   "cell_type": "code",
   "execution_count": 3,
   "metadata": {},
   "outputs": [],
   "source": [
    "def load_group_files(base_url, group_path):\n",
    "    path = '{}/{}/'.format(base_url, group_path)\n",
    "    file_names = sorted(os.listdir(path))\n",
    "    files = ['{}{}'.format(path, elem) for elem in file_names]\n",
    "    return files\n",
    "\n",
    "def load_matrix_subjects(base_url, group_path):\n",
    "    group_files = load_group_files(base_url, group_path)\n",
    "    return _load_matrix_subject_with_files(group_files)\n",
    "\n",
    "def _load_matrix_subject_with_files(files):\n",
    "    subjects = []\n",
    "    for file in files:\n",
    "        mat = np.loadtxt(file, delimiter=' ')\n",
    "        np.fill_diagonal(mat, 0)\n",
    "        subjects.append(mat)\n",
    "    return np.array(subjects)\n",
    "\n",
    "def nearest_neighbour_edge_centrality(edge, matrix):\n",
    "    degree_a = np.sum(matrix[edge[0],])\n",
    "    degree_b = np.sum(matrix[edge[1],])\n",
    "    w_ab = matrix[edge[0], edge[1]]\n",
    "\n",
    "    return (degree_a + degree_b - 2 * w_ab) / (np.abs(degree_a - degree_b) + 1) * w_ab\n"
   ]
  },
  {
   "cell_type": "code",
   "execution_count": 4,
   "metadata": {},
   "outputs": [],
   "source": [
    "def measure_edge_weight(aff, mat):\n",
    "    inter_weight = 0\n",
    "    intra_weight = 0\n",
    "\n",
    "    for e in edge_combo:\n",
    "        if aff[e[0]] == aff[e[1]]:\n",
    "            intra_weight += mat[e]\n",
    "        else:\n",
    "            inter_weight += mat[e]\n",
    "\n",
    "    inter_ratio = inter_weight / np.sum(mat) * 2\n",
    "    intra_ratio = intra_weight / np.sum(mat) * 2\n",
    "\n",
    "    print(f'inter-edge ratio: {inter_ratio:.4f}, intra-edge ratio: {intra_ratio:.4f}')\n",
    "    # return inter_ratio, intra_ratio"
   ]
  },
  {
   "cell_type": "code",
   "execution_count": 5,
   "metadata": {},
   "outputs": [],
   "source": [
    "data_type = 'correlation'\n",
    "datasets = ['adolescents', 'children', 'eyesclosed', 'male', 'female', 'complete_abide']\n",
    "\n",
    "n_nodes = 116\n",
    "edge_combo = list(combinations(range(n_nodes), 2))"
   ]
  },
  {
   "cell_type": "code",
   "execution_count": 6,
   "metadata": {},
   "outputs": [],
   "source": [
    "idx = 3"
   ]
  },
  {
   "cell_type": "code",
   "execution_count": 7,
   "metadata": {},
   "outputs": [],
   "source": [
    "dataset = datasets[idx]\n",
    "\n",
    "diff_mat = np.loadtxt(f\"../abide_datasets/{data_type}_diff_mat/{dataset}/td_asd_diff_mat_whole_dataset.txt\")\n",
    "\n",
    "td_subjects = load_matrix_subjects(f'../abide_datasets/{data_type}/{dataset}', 'td')\n",
    "asd_subjects = load_matrix_subjects(f'../abide_datasets/{data_type}/{dataset}', 'asd')\n",
    "\n",
    "td_mean = np.mean(td_subjects, axis=0)\n",
    "asd_mean = np.mean(asd_subjects, axis=0)"
   ]
  },
  {
   "cell_type": "code",
   "execution_count": 8,
   "metadata": {},
   "outputs": [],
   "source": [
    "seed = 5"
   ]
  },
  {
   "cell_type": "code",
   "execution_count": 9,
   "metadata": {},
   "outputs": [],
   "source": [
    "ci, q = modularity_louvain_und_sign(td_mean, qtype='sta', seed=seed)\n",
    "smp_ci, smp_q = modularity_louvain_und_sign(td_mean, qtype='smp', seed=seed)\n",
    "orig_ci, orig_q = modularity.modularity_louvain_und_sign(td_mean, qtype='sta', seed=seed)\n",
    "orig_smp_ci, orig_smp_q = modularity.modularity_louvain_und_sign(td_mean, qtype='smp', seed=seed)"
   ]
  },
  {
   "cell_type": "code",
   "execution_count": 10,
   "metadata": {},
   "outputs": [
    {
     "data": {
      "text/plain": [
       "array([4, 4, 2, 2, 2, 2, 2, 2, 2, 2, 4, 4, 4, 4, 2, 2, 4, 4, 4, 4, 2, 2,\n",
       "       2, 2, 2, 2, 2, 2, 4, 4, 2, 2, 4, 4, 2, 2, 4, 4, 5, 5, 4, 4, 3, 3,\n",
       "       3, 3, 3, 3, 3, 3, 3, 3, 3, 3, 3, 3, 4, 4, 1, 1, 1, 1, 4, 4, 2, 2,\n",
       "       1, 2, 4, 5, 4, 4, 4, 4, 4, 4, 4, 4, 4, 4, 4, 4, 2, 4, 2, 2, 2, 2,\n",
       "       2, 2, 5, 5, 5, 5, 5, 5, 3, 5, 3, 5, 5, 5, 5, 5, 5, 5, 5, 5, 5, 5,\n",
       "       5, 5, 5, 5, 5, 5])"
      ]
     },
     "execution_count": 10,
     "metadata": {},
     "output_type": "execute_result"
    }
   ],
   "source": [
    "ci"
   ]
  },
  {
   "cell_type": "code",
   "execution_count": 11,
   "metadata": {},
   "outputs": [
    {
     "name": "stdout",
     "output_type": "stream",
     "text": [
      "sta\n",
      "ours:\n",
      "inter-edge ratio: 0.9630, intra-edge ratio: 0.0370\n",
      "inter-edge ratio: 0.2845, intra-edge ratio: 0.7155\n",
      "olaf\n",
      "inter-edge ratio: 0.9630, intra-edge ratio: 0.0370\n",
      "inter-edge ratio: 0.2845, intra-edge ratio: 0.7155\n",
      "\n",
      "smp\n",
      "ours:\n",
      "inter-edge ratio: 0.9066, intra-edge ratio: 0.0934\n",
      "inter-edge ratio: 0.2155, intra-edge ratio: 0.7845\n",
      "olaf\n",
      "inter-edge ratio: 0.9066, intra-edge ratio: 0.0934\n",
      "inter-edge ratio: 0.2155, intra-edge ratio: 0.7845\n"
     ]
    }
   ],
   "source": [
    "print('sta')\n",
    "print('ours:')\n",
    "measure_edge_weight(ci, td_mean * (td_mean < 0))\n",
    "measure_edge_weight(ci, td_mean * (td_mean > 0))\n",
    "print('olaf')\n",
    "measure_edge_weight(orig_ci, td_mean * (td_mean < 0))\n",
    "measure_edge_weight(orig_ci, td_mean * (td_mean > 0))\n",
    "print('\\nsmp')\n",
    "print('ours:')\n",
    "measure_edge_weight(smp_ci, td_mean * (td_mean < 0))\n",
    "measure_edge_weight(smp_ci, td_mean * (td_mean > 0))\n",
    "print('olaf')\n",
    "measure_edge_weight(orig_smp_ci, td_mean * (td_mean < 0))\n",
    "measure_edge_weight(orig_smp_ci, td_mean * (td_mean > 0))"
   ]
  },
  {
   "cell_type": "code",
   "execution_count": 12,
   "metadata": {},
   "outputs": [],
   "source": [
    "ci, q = modularity_louvain_und_sign(asd_mean, qtype='sta', seed=seed)\n",
    "smp_ci, smp_q = modularity_louvain_und_sign(asd_mean, qtype='smp', seed=seed)\n",
    "orig_ci, orig_q = modularity.modularity_louvain_und_sign(asd_mean, qtype='sta', seed=seed)\n",
    "orig_smp_ci, orig_smp_q = modularity.modularity_louvain_und_sign(asd_mean, qtype='smp', seed=seed)"
   ]
  },
  {
   "cell_type": "code",
   "execution_count": 13,
   "metadata": {},
   "outputs": [
    {
     "name": "stdout",
     "output_type": "stream",
     "text": [
      "sta\n",
      "ours:\n",
      "inter-edge ratio: 0.9099, intra-edge ratio: 0.0901\n",
      "inter-edge ratio: 0.2382, intra-edge ratio: 0.7618\n",
      "olaf\n",
      "inter-edge ratio: 0.9099, intra-edge ratio: 0.0901\n",
      "inter-edge ratio: 0.2382, intra-edge ratio: 0.7618\n",
      "\n",
      "smp\n",
      "ours:\n",
      "inter-edge ratio: 0.8945, intra-edge ratio: 0.1055\n",
      "inter-edge ratio: 0.2189, intra-edge ratio: 0.7811\n",
      "olaf\n",
      "inter-edge ratio: 0.8945, intra-edge ratio: 0.1055\n",
      "inter-edge ratio: 0.2189, intra-edge ratio: 0.7811\n"
     ]
    }
   ],
   "source": [
    "print('sta')\n",
    "print('ours:')\n",
    "measure_edge_weight(ci, td_mean * (td_mean < 0))\n",
    "measure_edge_weight(ci, td_mean * (td_mean > 0))\n",
    "print('olaf')\n",
    "measure_edge_weight(orig_ci, td_mean * (td_mean < 0))\n",
    "measure_edge_weight(orig_ci, td_mean * (td_mean > 0))\n",
    "print('\\nsmp')\n",
    "print('ours:')\n",
    "measure_edge_weight(smp_ci, td_mean * (td_mean < 0))\n",
    "measure_edge_weight(smp_ci, td_mean * (td_mean > 0))\n",
    "print('olaf')\n",
    "measure_edge_weight(orig_smp_ci, td_mean * (td_mean < 0))\n",
    "measure_edge_weight(orig_smp_ci, td_mean * (td_mean > 0))"
   ]
  },
  {
   "cell_type": "code",
   "execution_count": null,
   "metadata": {},
   "outputs": [],
   "source": []
  }
 ],
 "metadata": {
  "kernelspec": {
   "display_name": "Python 3.9.10 ('dense-graph')",
   "language": "python",
   "name": "python3"
  },
  "language_info": {
   "codemirror_mode": {
    "name": "ipython",
    "version": 3
   },
   "file_extension": ".py",
   "mimetype": "text/x-python",
   "name": "python",
   "nbconvert_exporter": "python",
   "pygments_lexer": "ipython3",
   "version": "3.9.10"
  },
  "orig_nbformat": 4,
  "vscode": {
   "interpreter": {
    "hash": "811f3c137293eb818675d074a17586b7ffbed456859389dc1f2bedb7227e678f"
   }
  }
 },
 "nbformat": 4,
 "nbformat_minor": 2
}
