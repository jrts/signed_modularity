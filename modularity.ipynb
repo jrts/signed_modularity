{
 "cells": [
  {
   "cell_type": "code",
   "execution_count": 1,
   "metadata": {},
   "outputs": [],
   "source": [
    "import os\n",
    "import numpy as np\n",
    "from bct import modularity\n",
    "\n",
    "from signed_modularity import modularity_louvain_und_sign"
   ]
  },
  {
   "cell_type": "code",
   "execution_count": 2,
   "metadata": {},
   "outputs": [],
   "source": [
    "def load_group_files(base_url, group_path):\n",
    "    path = '{}/{}/'.format(base_url, group_path)\n",
    "    file_names = sorted(os.listdir(path))\n",
    "    files = ['{}{}'.format(path, elem) for elem in file_names]\n",
    "    return files\n",
    "\n",
    "def load_matrix_subjects(base_url, group_path):\n",
    "    group_files = load_group_files(base_url, group_path)\n",
    "    return _load_matrix_subject_with_files(group_files)\n",
    "\n",
    "def _load_matrix_subject_with_files(files):\n",
    "    subjects = []\n",
    "    for file in files:\n",
    "        mat = np.loadtxt(file, delimiter=' ')\n",
    "        np.fill_diagonal(mat, 0)\n",
    "        subjects.append(mat)\n",
    "    return np.array(subjects)\n",
    "\n",
    "def nearest_neighbour_edge_centrality(edge, matrix):\n",
    "    degree_a = np.sum(matrix[edge[0],])\n",
    "    degree_b = np.sum(matrix[edge[1],])\n",
    "    w_ab = matrix[edge[0], edge[1]]\n",
    "\n",
    "    return (degree_a + degree_b - 2 * w_ab) / (np.abs(degree_a - degree_b) + 1) * w_ab\n"
   ]
  },
  {
   "cell_type": "code",
   "execution_count": 3,
   "metadata": {},
   "outputs": [],
   "source": [
    "data_type = 'correlation'\n",
    "datasets = ['adolescents', 'children', 'eyesclosed', 'male', 'female', 'complete_abide']\n",
    "\n",
    "n_nodes = 116"
   ]
  },
  {
   "cell_type": "code",
   "execution_count": 23,
   "metadata": {},
   "outputs": [],
   "source": [
    "idx = 3"
   ]
  },
  {
   "cell_type": "code",
   "execution_count": 24,
   "metadata": {},
   "outputs": [],
   "source": [
    "dataset = datasets[idx]\n",
    "\n",
    "diff_mat = np.loadtxt(f\"../abide_datasets/{data_type}_diff_mat/{dataset}/td_asd_diff_mat_whole_dataset.txt\")\n",
    "\n",
    "td_subjects = load_matrix_subjects(f'../abide_datasets/{data_type}/{dataset}', 'td')\n",
    "asd_subjects = load_matrix_subjects(f'../abide_datasets/{data_type}/{dataset}', 'asd')"
   ]
  },
  {
   "cell_type": "code",
   "execution_count": 37,
   "metadata": {},
   "outputs": [],
   "source": [
    "ci_ret, q = modularity_louvain_und_sign(np.mean(td_subjects, axis=0), qtype='sta')\n",
    "ci_ret_org, q_org = modularity.modularity_louvain_und_sign(np.mean(td_subjects, axis=0), qtype='sta')"
   ]
  },
  {
   "cell_type": "code",
   "execution_count": 38,
   "metadata": {},
   "outputs": [
    {
     "name": "stdout",
     "output_type": "stream",
     "text": [
      "[4 4 1 1 1 1 1 1 1 1 1 1 1 1 1 1 4 4 4 4 1 1 1 1 1 1 1 1 4 4 1 1 4 4 1 1 4\n",
      " 4 5 5 4 4 2 2 2 2 2 2 2 2 2 2 2 2 2 2 4 4 3 3 3 3 4 4 1 1 3 1 4 5 4 4 4 4\n",
      " 4 4 4 4 4 4 4 4 1 4 1 1 1 1 1 1 5 5 5 5 5 5 2 5 2 5 5 5 5 5 5 5 5 5 5 5 5\n",
      " 5 5 5 5 5]\n"
     ]
    }
   ],
   "source": [
    "print(ci_ret)"
   ]
  },
  {
   "cell_type": "code",
   "execution_count": 39,
   "metadata": {},
   "outputs": [
    {
     "name": "stdout",
     "output_type": "stream",
     "text": [
      "[3 3 1 1 1 1 1 1 1 1 1 1 1 1 1 1 3 3 3 3 1 1 1 1 1 1 1 1 3 3 1 1 3 3 1 1 3\n",
      " 3 3 3 3 3 2 2 2 2 2 2 2 2 2 2 2 2 2 2 3 3 1 2 1 1 3 3 1 1 2 1 3 3 3 3 3 3\n",
      " 3 3 3 3 3 3 3 3 1 3 1 1 1 1 1 1 4 4 4 4 4 4 2 4 2 4 4 4 4 4 4 4 4 4 4 4 4\n",
      " 4 4 4 4 4]\n"
     ]
    }
   ],
   "source": [
    "print(ci_ret_org)"
   ]
  },
  {
   "cell_type": "code",
   "execution_count": 40,
   "metadata": {},
   "outputs": [
    {
     "data": {
      "text/plain": [
       "(0.5616368048360386, 0.5547785122319459)"
      ]
     },
     "execution_count": 40,
     "metadata": {},
     "output_type": "execute_result"
    }
   ],
   "source": [
    "(q, q_org)"
   ]
  },
  {
   "cell_type": "code",
   "execution_count": 41,
   "metadata": {},
   "outputs": [],
   "source": [
    "ci_ret, q = modularity_louvain_und_sign(np.mean(asd_subjects, axis=0), qtype='sta')\n",
    "ci_ret_org, q_org = modularity.modularity_louvain_und_sign(np.mean(asd_subjects, axis=0), qtype='sta')"
   ]
  },
  {
   "cell_type": "code",
   "execution_count": 42,
   "metadata": {},
   "outputs": [
    {
     "name": "stdout",
     "output_type": "stream",
     "text": [
      "[3 3 1 1 1 1 1 1 1 1 1 1 1 1 1 1 3 3 3 3 1 1 1 1 1 1 1 1 3 3 1 1 3 3 1 1 3\n",
      " 3 2 2 3 3 2 2 2 2 2 2 2 2 2 2 2 2 2 2 3 3 4 4 4 4 3 3 1 1 4 1 3 2 3 3 3 3\n",
      " 3 3 3 3 3 3 3 3 1 3 1 1 1 1 1 1 2 2 2 2 2 2 2 2 2 2 2 2 2 2 2 2 2 2 2 2 2\n",
      " 2 2 2 2 2]\n"
     ]
    }
   ],
   "source": [
    "print(ci_ret)"
   ]
  },
  {
   "cell_type": "code",
   "execution_count": 43,
   "metadata": {},
   "outputs": [
    {
     "name": "stdout",
     "output_type": "stream",
     "text": [
      "[3 3 1 1 1 1 1 1 1 1 3 3 3 3 1 1 3 3 3 3 1 1 1 1 1 1 1 1 3 3 1 1 3 3 1 1 3\n",
      " 3 2 2 3 3 2 2 2 2 2 2 2 2 2 2 2 2 2 2 3 3 2 2 3 3 3 3 1 1 2 1 3 2 3 3 3 3\n",
      " 3 3 3 3 3 3 3 3 1 3 1 1 1 1 1 1 2 2 2 2 2 2 2 2 2 2 2 2 2 2 2 2 2 2 2 2 2\n",
      " 2 2 2 2 2]\n"
     ]
    }
   ],
   "source": [
    "print(ci_ret_org)"
   ]
  },
  {
   "cell_type": "code",
   "execution_count": 44,
   "metadata": {},
   "outputs": [
    {
     "data": {
      "text/plain": [
       "(0.5662440697042003, 0.5721015109853619)"
      ]
     },
     "execution_count": 44,
     "metadata": {},
     "output_type": "execute_result"
    }
   ],
   "source": [
    "(q, q_org)"
   ]
  },
  {
   "cell_type": "code",
   "execution_count": null,
   "metadata": {},
   "outputs": [],
   "source": []
  }
 ],
 "metadata": {
  "kernelspec": {
   "display_name": "Python 3.9.10 ('dense-graph')",
   "language": "python",
   "name": "python3"
  },
  "language_info": {
   "codemirror_mode": {
    "name": "ipython",
    "version": 3
   },
   "file_extension": ".py",
   "mimetype": "text/x-python",
   "name": "python",
   "nbconvert_exporter": "python",
   "pygments_lexer": "ipython3",
   "version": "3.9.10"
  },
  "orig_nbformat": 4,
  "vscode": {
   "interpreter": {
    "hash": "811f3c137293eb818675d074a17586b7ffbed456859389dc1f2bedb7227e678f"
   }
  }
 },
 "nbformat": 4,
 "nbformat_minor": 2
}
