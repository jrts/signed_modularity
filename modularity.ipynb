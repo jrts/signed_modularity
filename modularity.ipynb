{
 "cells": [
  {
   "cell_type": "code",
   "execution_count": 1,
   "metadata": {},
   "outputs": [],
   "source": [
    "import os\n",
    "import numpy as np\n",
    "from bct import modularity\n",
    "\n",
    "from clique import Clique\n",
    "from itertools import combinations\n",
    "import matplotlib.pylab as plt"
   ]
  },
  {
   "cell_type": "code",
   "execution_count": 2,
   "metadata": {},
   "outputs": [],
   "source": [
    "def load_group_files(base_url, group_path):\n",
    "    path = '{}/{}/'.format(base_url, group_path)\n",
    "    file_names = sorted(os.listdir(path))\n",
    "    files = ['{}{}'.format(path, elem) for elem in file_names]\n",
    "    return files\n",
    "\n",
    "def load_matrix_subjects(base_url, group_path):\n",
    "    group_files = load_group_files(base_url, group_path)\n",
    "    return _load_matrix_subject_with_files(group_files)\n",
    "\n",
    "def _load_matrix_subject_with_files(files):\n",
    "    subjects = []\n",
    "    for file in files:\n",
    "        mat = np.loadtxt(file, delimiter=' ')\n",
    "        np.fill_diagonal(mat, 0)\n",
    "        subjects.append(mat)\n",
    "    return np.array(subjects)"
   ]
  },
  {
   "cell_type": "code",
   "execution_count": 3,
   "metadata": {},
   "outputs": [],
   "source": [
    "def measure_edge_weight(aff, mat, edge_combo):\n",
    "    inter_weight = 0\n",
    "    intra_weight = 0\n",
    "\n",
    "    intra_count = 0\n",
    "    inter_count = 0\n",
    "\n",
    "    for e in edge_combo:\n",
    "        if aff[e[0]] == aff[e[1]]:\n",
    "            intra_weight += mat[e]\n",
    "            if mat[e] != 0:\n",
    "                intra_count += 1\n",
    "        else:\n",
    "            inter_weight += mat[e]\n",
    "            if mat[e] != 0:\n",
    "                inter_count += 1\n",
    "\n",
    "    inter_ratio = inter_weight / np.sum(mat) * 2\n",
    "    intra_ratio = intra_weight / np.sum(mat) * 2\n",
    "\n",
    "    print(f'# of inter-edges: {inter_count}; # of intra-edges: {intra_count}')\n",
    "    print(f'inter-edge ratio: {inter_ratio:.4f}; intra-edge ratio: {intra_ratio:.4f}')\n",
    "    print(f'total inter-edge weight: {inter_weight:.4f}; total intra-edge weight: {intra_weight:.4f}')\n",
    "    # return inter_ratio, intra_ratio"
   ]
  },
  {
   "cell_type": "code",
   "execution_count": 4,
   "metadata": {},
   "outputs": [],
   "source": [
    "data_type = 'correlation'\n",
    "datasets = ['adolescents', 'children', 'eyesclosed', 'male', 'female', 'complete_abide']\n",
    "\n",
    "n_nodes = 116\n",
    "edge_combo = list(combinations(range(n_nodes), 2))"
   ]
  },
  {
   "cell_type": "code",
   "execution_count": 5,
   "metadata": {},
   "outputs": [],
   "source": [
    "idx = 5"
   ]
  },
  {
   "cell_type": "code",
   "execution_count": 6,
   "metadata": {},
   "outputs": [],
   "source": [
    "dataset = datasets[idx]\n",
    "\n",
    "diff_mat = np.loadtxt(f\"../abide_datasets/{data_type}_diff_mat/{dataset}/td_asd_diff_mat_whole_dataset.txt\")\n",
    "\n",
    "td_subjects = load_matrix_subjects(f'../abide_datasets/{data_type}/{dataset}', 'td')\n",
    "asd_subjects = load_matrix_subjects(f'../abide_datasets/{data_type}/{dataset}', 'asd')\n",
    "\n",
    "td_mean = np.mean(td_subjects, axis=0)\n",
    "asd_mean = np.mean(asd_subjects, axis=0)\n",
    "\n",
    "td_positive_mean = td_mean * (td_mean > 0)\n",
    "td_negative_mean = td_mean * (td_mean < 0)\n",
    "asd_positive_mean = asd_mean * (asd_mean > 0)\n",
    "asd_negative_mean = asd_mean * (asd_mean < 0)\n",
    "\n",
    "td_asd_edges = Clique.create_cliques(edge_combo, td_mean - asd_mean)\n",
    "sorted_edge_indices = np.flip(np.argsort(td_asd_edges))"
   ]
  },
  {
   "cell_type": "code",
   "execution_count": 7,
   "metadata": {},
   "outputs": [
    {
     "data": {
      "image/png": "[encoded data removed]",
      "text/plain": [
       "<Figure size 432x288 with 1 Axes>"
      ]
     },
     "metadata": {
      "needs_background": "light"
     },
     "output_type": "display_data"
    }
   ],
   "source": [
    "plt.hist(list(map(lambda x: x.metric, Clique.create_cliques(edge_combo, td_mean))), bins=1000);"
   ]
  },
  {
   "cell_type": "code",
   "execution_count": 8,
   "metadata": {},
   "outputs": [
    {
     "data": {
      "image/png": "[encoded data removed]",
      "text/plain": [
       "<Figure size 432x288 with 1 Axes>"
      ]
     },
     "metadata": {
      "needs_background": "light"
     },
     "output_type": "display_data"
    }
   ],
   "source": [
    "plt.hist(list(map(lambda x: x.metric, Clique.create_cliques(edge_combo, asd_mean))), bins=1000);"
   ]
  },
  {
   "cell_type": "code",
   "execution_count": 9,
   "metadata": {},
   "outputs": [
    {
     "data": {
      "image/png": "[encoded data removed]",
      "text/plain": [
       "<Figure size 432x288 with 1 Axes>"
      ]
     },
     "metadata": {
      "needs_background": "light"
     },
     "output_type": "display_data"
    }
   ],
   "source": [
    "plt.hist(list(map(lambda x: x.metric, td_asd_edges)), bins=1000);"
   ]
  },
  {
   "cell_type": "code",
   "execution_count": 10,
   "metadata": {},
   "outputs": [],
   "source": [
    "td_degrees = np.sum(td_positive_mean, axis=0)\n",
    "asd_degrees = np.sum(asd_positive_mean, axis=0)"
   ]
  },
  {
   "cell_type": "code",
   "execution_count": 11,
   "metadata": {},
   "outputs": [
    {
     "data": {
      "image/png": "[encoded data removed]",
      "text/plain": [
       "<Figure size 432x288 with 1 Axes>"
      ]
     },
     "metadata": {
      "needs_background": "light"
     },
     "output_type": "display_data"
    }
   ],
   "source": [
    "plt.hist(td_degrees, bins=15, alpha=.5);\n",
    "plt.hist(asd_degrees, bins=15, alpha=.5);"
   ]
  },
  {
   "cell_type": "code",
   "execution_count": 12,
   "metadata": {},
   "outputs": [],
   "source": [
    "seed = 50"
   ]
  },
  {
   "cell_type": "code",
   "execution_count": 13,
   "metadata": {},
   "outputs": [
    {
     "name": "stdout",
     "output_type": "stream",
     "text": [
      "positive edges:\n",
      "# of inter-edges: 1352; # of intra-edges: 1284\n",
      "inter-edge ratio: 0.2976; intra-edge ratio: 0.7024\n",
      "total inter-edge weight: 97.0033; total intra-edge weight: 228.9003\n",
      "\n",
      "negative edges:\n",
      "# of inter-edges: 3795; # of intra-edges: 239\n",
      "inter-edge ratio: 0.9596; intra-edge ratio: 0.0404\n",
      "total inter-edge weight: -311.9546; total intra-edge weight: -13.1275\n"
     ]
    }
   ],
   "source": [
    "td_ci, td_q = modularity.modularity_louvain_und_sign(td_mean, qtype='sta', seed=3)\n",
    "\n",
    "print('positive edges:')\n",
    "measure_edge_weight(td_ci, td_positive_mean, edge_combo)\n",
    "\n",
    "print('\\nnegative edges:')\n",
    "measure_edge_weight(td_ci, td_negative_mean, edge_combo)"
   ]
  },
  {
   "cell_type": "code",
   "execution_count": 24,
   "metadata": {},
   "outputs": [
    {
     "name": "stdout",
     "output_type": "stream",
     "text": [
      "2, (25, 110), 0.076, (2, 5), 0.190, 0.114, td v0 degree: 7.344, td v1 degree: 6.654\n",
      "4, (27, 110), 0.074, (2, 5), 0.147, 0.073, td v0 degree: 7.090, td v1 degree: 6.654\n",
      "8, (45, 85), 0.069, (3, 2), 0.004, -0.065, td v0 degree: 5.033, td v1 degree: 3.700\n",
      "17, (24, 110), 0.060, (2, 5), 0.142, 0.082, td v0 degree: 6.266, td v1 degree: 6.654\n",
      "22, (9, 11), 0.059, (2, 1), 0.179, 0.120, td v0 degree: 4.928, td v1 degree: 5.265\n",
      "23, (52, 61), 0.058, (3, 1), 0.144, 0.086, td v0 degree: 4.309, td v1 degree: 5.433\n",
      "26, (31, 110), 0.058, (2, 5), 0.029, -0.029, td v0 degree: 6.702, td v1 degree: 6.654\n",
      "30, (77, 92), 0.057, (4, 5), 0.026, -0.031, td v0 degree: 5.593, td v1 degree: 6.131\n",
      "43, (30, 110), 0.053, (2, 5), 0.014, -0.039, td v0 degree: 6.237, td v1 degree: 6.654\n",
      "45, (2, 93), 0.053, (2, 5), 0.219, 0.166, td v0 degree: 6.067, td v1 degree: 6.446\n",
      "53, (10, 14), 0.051, (1, 2), 0.360, 0.309, td v0 degree: 4.817, td v1 degree: 5.901\n",
      "56, (50, 89), 0.051, (3, 2), 0.066, 0.015, td v0 degree: 4.848, td v1 degree: 4.197\n",
      "57, (39, 110), 0.050, (4, 5), 0.176, 0.126, td v0 degree: 5.490, td v1 degree: 6.654\n",
      "59, (13, 62), 0.050, (1, 4), 0.121, 0.071, td v0 degree: 5.920, td v1 degree: 6.887\n",
      "69, (6, 90), 0.048, (2, 5), 0.031, -0.017, td v0 degree: 5.050, td v1 degree: 5.455\n",
      "70, (77, 104), 0.048, (4, 5), 0.004, -0.045, td v0 degree: 5.593, td v1 degree: 4.917\n",
      "73, (26, 110), 0.048, (2, 5), 0.060, 0.012, td v0 degree: 5.862, td v1 degree: 6.654\n",
      "75, (63, 98), 0.048, (4, 3), 0.062, 0.014, td v0 degree: 7.438, td v1 degree: 7.162\n",
      "78, (7, 92), 0.048, (2, 5), 0.287, 0.240, td v0 degree: 5.242, td v1 degree: 6.131\n",
      "84, (22, 93), 0.047, (2, 5), 0.156, 0.109, td v0 degree: 7.419, td v1 degree: 6.446\n",
      "88, (6, 92), 0.047, (2, 5), 0.100, 0.053, td v0 degree: 5.050, td v1 degree: 6.131\n",
      "93, (2, 91), 0.047, (2, 5), 0.139, 0.093, td v0 degree: 6.067, td v1 degree: 6.023\n",
      "94, (20, 110), 0.046, (2, 5), 0.046, -0.000, td v0 degree: 4.746, td v1 degree: 6.654\n",
      "95, (23, 93), 0.046, (2, 5), 0.155, 0.109, td v0 degree: 7.379, td v1 degree: 6.446\n",
      "101, (52, 63), 0.046, (3, 4), 0.109, 0.063, td v0 degree: 4.309, td v1 degree: 7.438\n",
      "108, (13, 76), 0.045, (1, 4), 0.058, 0.013, td v0 degree: 5.920, td v1 degree: 6.982\n",
      "111, (35, 71), 0.045, (2, 4), 0.063, 0.018, td v0 degree: 4.425, td v1 degree: 4.721\n",
      "115, (15, 36), 0.045, (2, 4), 0.034, -0.010, td v0 degree: 5.421, td v1 degree: 7.802\n",
      "116, (31, 37), 0.045, (2, 4), 0.014, -0.031, td v0 degree: 6.702, td v1 degree: 7.170\n",
      "124, (15, 62), 0.044, (2, 4), 0.008, -0.036, td v0 degree: 5.421, td v1 degree: 6.887\n",
      "126, (28, 61), 0.044, (4, 1), 0.001, -0.044, td v0 degree: 9.077, td v1 degree: 5.433\n",
      "128, (70, 91), 0.044, (4, 5), 0.064, 0.021, td v0 degree: 4.289, td v1 degree: 6.023\n",
      "129, (17, 61), 0.044, (4, 1), 0.112, 0.069, td v0 degree: 7.962, td v1 degree: 5.433\n",
      "134, (25, 96), 0.042, (2, 3), 0.076, 0.033, td v0 degree: 7.344, td v1 degree: 6.813\n",
      "135, (60, 89), 0.042, (1, 2), 0.076, 0.034, td v0 degree: 5.830, td v1 degree: 4.197\n",
      "136, (1, 61), 0.042, (4, 1), 0.295, 0.252, td v0 degree: 5.472, td v1 degree: 5.433\n",
      "137, (27, 93), 0.042, (2, 5), 0.041, -0.002, td v0 degree: 7.090, td v1 degree: 6.446\n",
      "140, (88, 93), 0.042, (2, 5), 0.147, 0.105, td v0 degree: 6.123, td v1 degree: 6.446\n",
      "141, (77, 100), 0.042, (4, 5), 0.016, -0.025, td v0 degree: 5.593, td v1 degree: 4.061\n",
      "144, (61, 72), 0.041, (1, 4), 0.020, -0.022, td v0 degree: 5.433, td v1 degree: 9.478\n",
      "145, (76, 112), 0.041, (4, 5), 0.055, 0.013, td v0 degree: 6.982, td v1 degree: 4.914\n",
      "146, (50, 85), 0.041, (3, 2), 0.127, 0.086, td v0 degree: 4.848, td v1 degree: 3.700\n",
      "147, (61, 62), 0.041, (1, 4), 0.203, 0.162, td v0 degree: 5.433, td v1 degree: 6.887\n",
      "148, (46, 56), 0.041, (3, 4), 0.020, -0.022, td v0 degree: 6.479, td v1 degree: 5.682\n",
      "150, (27, 96), 0.041, (2, 3), 0.092, 0.051, td v0 degree: 7.090, td v1 degree: 6.813\n",
      "154, (5, 93), 0.041, (2, 5), 0.077, 0.037, td v0 degree: 5.688, td v1 degree: 6.446\n",
      "159, (26, 66), 0.041, (2, 1), 0.007, -0.033, td v0 degree: 5.862, td v1 degree: 3.694\n",
      "160, (10, 88), 0.040, (1, 2), 0.082, 0.041, td v0 degree: 4.817, td v1 degree: 6.123\n",
      "162, (54, 58), 0.040, (3, 1), 0.090, 0.049, td v0 degree: 4.782, td v1 degree: 4.940\n",
      "163, (80, 85), 0.040, (4, 2), 0.118, 0.078, td v0 degree: 7.845, td v1 degree: 3.700\n",
      "165, (46, 57), 0.040, (3, 4), 0.010, -0.031, td v0 degree: 6.479, td v1 degree: 5.714\n",
      "168, (52, 60), 0.040, (3, 1), 0.111, 0.071, td v0 degree: 4.309, td v1 degree: 5.830\n",
      "172, (0, 12), 0.040, (4, 1), 0.186, 0.146, td v0 degree: 4.790, td v1 degree: 5.373\n",
      "175, (71, 92), 0.040, (4, 5), 0.023, -0.017, td v0 degree: 4.721, td v1 degree: 6.131\n",
      "177, (53, 56), 0.040, (3, 4), 0.039, -0.001, td v0 degree: 4.082, td v1 degree: 5.682\n",
      "179, (61, 89), 0.040, (1, 2), 0.123, 0.084, td v0 degree: 5.433, td v1 degree: 4.197\n",
      "180, (1, 53), 0.040, (4, 3), 0.003, -0.036, td v0 degree: 5.472, td v1 degree: 4.082\n",
      "182, (9, 13), 0.039, (2, 1), 0.238, 0.199, td v0 degree: 4.928, td v1 degree: 5.920\n",
      "183, (70, 93), 0.039, (4, 5), 0.067, 0.027, td v0 degree: 4.289, td v1 degree: 6.446\n",
      "186, (13, 90), 0.039, (1, 5), 0.000, -0.039, td v0 degree: 5.920, td v1 degree: 5.455\n",
      "187, (7, 102), 0.039, (2, 5), 0.053, 0.013, td v0 degree: 5.242, td v1 degree: 4.835\n",
      "188, (21, 109), 0.039, (2, 5), 0.043, 0.004, td v0 degree: 4.914, td v1 degree: 4.608\n",
      "189, (31, 113), 0.039, (2, 5), 0.002, -0.037, td v0 degree: 6.702, td v1 degree: 4.519\n",
      "192, (51, 89), 0.039, (3, 2), 0.062, 0.023, td v0 degree: 5.357, td v1 degree: 4.197\n",
      "194, (20, 95), 0.039, (2, 5), 0.013, -0.026, td v0 degree: 4.746, td v1 degree: 5.101\n",
      "195, (13, 72), 0.039, (1, 4), 0.157, 0.118, td v0 degree: 5.920, td v1 degree: 9.478\n",
      "198, (70, 90), 0.039, (4, 5), 0.024, -0.015, td v0 degree: 4.289, td v1 degree: 5.455\n",
      "201, (23, 110), 0.039, (2, 5), 0.081, 0.042, td v0 degree: 7.379, td v1 degree: 6.654\n",
      "203, (13, 28), 0.039, (1, 4), 0.179, 0.141, td v0 degree: 5.920, td v1 degree: 9.077\n",
      "204, (20, 77), 0.039, (2, 4), 0.054, 0.015, td v0 degree: 4.746, td v1 degree: 5.593\n",
      "205, (11, 72), 0.039, (1, 4), 0.093, 0.055, td v0 degree: 5.265, td v1 degree: 9.478\n",
      "206, (52, 62), 0.039, (3, 4), 0.069, 0.030, td v0 degree: 4.309, td v1 degree: 6.887\n",
      "212, (12, 17), 0.038, (1, 4), 0.097, 0.058, td v0 degree: 5.373, td v1 degree: 7.962\n",
      "213, (0, 13), 0.038, (4, 1), 0.066, 0.028, td v0 degree: 4.790, td v1 degree: 5.920\n",
      "215, (6, 93), 0.038, (2, 5), 0.173, 0.135, td v0 degree: 5.050, td v1 degree: 6.446\n",
      "218, (12, 62), 0.038, (1, 4), 0.139, 0.100, td v0 degree: 5.373, td v1 degree: 6.887\n",
      "226, (24, 96), 0.038, (2, 3), 0.047, 0.009, td v0 degree: 6.266, td v1 degree: 6.813\n",
      "233, (31, 38), 0.037, (2, 4), 0.001, -0.036, td v0 degree: 6.702, td v1 degree: 5.866\n",
      "240, (13, 63), 0.037, (1, 4), 0.151, 0.114, td v0 degree: 5.920, td v1 degree: 7.438\n",
      "244, (54, 59), 0.037, (3, 1), 0.048, 0.011, td v0 degree: 4.782, td v1 degree: 4.868\n",
      "256, (20, 109), 0.036, (2, 5), 0.033, -0.003, td v0 degree: 4.746, td v1 degree: 4.608\n",
      "257, (5, 91), 0.036, (2, 5), 0.041, 0.004, td v0 degree: 5.688, td v1 degree: 6.023\n",
      "258, (75, 111), 0.036, (4, 5), 0.014, -0.023, td v0 degree: 6.440, td v1 degree: 6.118\n",
      "264, (0, 61), 0.036, (4, 1), 0.136, 0.100, td v0 degree: 4.790, td v1 degree: 5.433\n",
      "265, (7, 90), 0.036, (2, 5), 0.095, 0.059, td v0 degree: 5.242, td v1 degree: 5.455\n",
      "267, (35, 77), 0.036, (2, 4), 0.146, 0.110, td v0 degree: 4.425, td v1 degree: 5.593\n",
      "276, (22, 91), 0.036, (2, 5), 0.065, 0.029, td v0 degree: 7.419, td v1 degree: 6.023\n",
      "279, (23, 91), 0.036, (2, 5), 0.094, 0.059, td v0 degree: 7.379, td v1 degree: 6.023\n",
      "283, (6, 11), 0.035, (2, 1), 0.103, 0.067, td v0 degree: 5.050, td v1 degree: 5.265\n",
      "284, (77, 102), 0.035, (4, 5), 0.029, -0.006, td v0 degree: 5.593, td v1 degree: 4.835\n",
      "285, (81, 84), 0.035, (4, 2), 0.153, 0.118, td v0 degree: 8.103, td v1 degree: 4.817\n",
      "286, (4, 91), 0.035, (2, 5), 0.121, 0.086, td v0 degree: 5.160, td v1 degree: 6.023\n",
      "288, (77, 112), 0.035, (4, 5), 0.031, -0.004, td v0 degree: 5.593, td v1 degree: 4.914\n",
      "291, (52, 59), 0.035, (3, 1), 0.205, 0.170, td v0 degree: 4.309, td v1 degree: 4.868\n",
      "293, (73, 112), 0.035, (4, 5), 0.041, 0.006, td v0 degree: 7.238, td v1 degree: 4.914\n",
      "295, (60, 72), 0.035, (1, 4), 0.089, 0.054, td v0 degree: 5.830, td v1 degree: 9.478\n",
      "300, (12, 88), 0.035, (1, 2), 0.023, -0.012, td v0 degree: 5.373, td v1 degree: 6.123\n",
      "303, (53, 57), 0.035, (3, 4), 0.041, 0.006, td v0 degree: 4.082, td v1 degree: 5.714\n",
      "304, (29, 61), 0.035, (4, 1), 0.082, 0.047, td v0 degree: 9.064, td v1 degree: 5.433\n",
      "305, (7, 75), 0.035, (2, 4), 0.022, -0.013, td v0 degree: 5.242, td v1 degree: 6.440\n",
      "307, (76, 102), 0.035, (4, 5), 0.013, -0.022, td v0 degree: 6.982, td v1 degree: 4.835\n",
      "311, (70, 92), 0.035, (4, 5), 0.031, -0.004, td v0 degree: 4.289, td v1 degree: 6.131\n",
      "314, (15, 28), 0.034, (2, 4), 0.130, 0.096, td v0 degree: 5.421, td v1 degree: 9.077\n",
      "315, (15, 72), 0.034, (2, 4), 0.056, 0.022, td v0 degree: 5.421, td v1 degree: 9.478\n",
      "317, (22, 110), 0.034, (2, 5), 0.081, 0.047, td v0 degree: 7.419, td v1 degree: 6.654\n",
      "318, (73, 102), 0.034, (4, 5), 0.019, -0.015, td v0 degree: 7.238, td v1 degree: 4.835\n",
      "319, (52, 89), 0.034, (3, 2), 0.182, 0.148, td v0 degree: 4.309, td v1 degree: 4.197\n",
      "321, (75, 112), 0.034, (4, 5), 0.018, -0.016, td v0 degree: 6.440, td v1 degree: 4.914\n",
      "323, (71, 110), 0.034, (4, 5), 0.021, -0.012, td v0 degree: 4.721, td v1 degree: 6.654\n",
      "324, (65, 93), 0.034, (2, 5), 0.028, -0.006, td v0 degree: 5.177, td v1 degree: 6.446\n",
      "325, (2, 92), 0.034, (2, 5), 0.081, 0.047, td v0 degree: 6.067, td v1 degree: 6.131\n",
      "330, (15, 60), 0.034, (2, 1), 0.095, 0.062, td v0 degree: 5.421, td v1 degree: 5.830\n",
      "334, (4, 93), 0.034, (2, 5), 0.150, 0.116, td v0 degree: 5.160, td v1 degree: 6.446\n",
      "337, (76, 101), 0.033, (4, 5), 0.006, -0.027, td v0 degree: 6.982, td v1 degree: 4.276\n",
      "342, (1, 51), 0.033, (4, 3), 0.043, 0.009, td v0 degree: 5.472, td v1 degree: 5.357\n",
      "346, (5, 92), 0.033, (2, 5), 0.172, 0.139, td v0 degree: 5.688, td v1 degree: 6.131\n",
      "353, (26, 69), 0.033, (2, 4), 0.049, 0.016, td v0 degree: 5.862, td v1 degree: 3.490\n",
      "355, (60, 88), 0.033, (1, 2), 0.065, 0.033, td v0 degree: 5.830, td v1 degree: 6.123\n",
      "358, (15, 17), 0.033, (2, 4), 0.020, -0.012, td v0 degree: 5.421, td v1 degree: 7.962\n",
      "361, (28, 60), 0.033, (4, 1), 0.088, 0.055, td v0 degree: 9.077, td v1 degree: 5.830\n",
      "363, (11, 28), 0.032, (1, 4), 0.158, 0.126, td v0 degree: 5.265, td v1 degree: 9.077\n",
      "364, (9, 92), 0.032, (2, 5), 0.246, 0.214, td v0 degree: 4.928, td v1 degree: 6.131\n",
      "366, (11, 15), 0.032, (1, 2), 0.318, 0.286, td v0 degree: 5.265, td v1 degree: 5.421\n",
      "375, (6, 91), 0.032, (2, 5), 0.110, 0.078, td v0 degree: 5.050, td v1 degree: 6.023\n",
      "376, (54, 60), 0.032, (3, 1), 0.013, -0.019, td v0 degree: 4.782, td v1 degree: 5.830\n",
      "378, (12, 54), 0.032, (1, 3), 0.023, -0.009, td v0 degree: 5.373, td v1 degree: 4.782\n",
      "383, (52, 57), 0.032, (3, 4), 0.048, 0.017, td v0 degree: 4.309, td v1 degree: 5.714\n",
      "384, (12, 63), 0.032, (1, 4), 0.074, 0.042, td v0 degree: 5.373, td v1 degree: 7.438\n",
      "388, (11, 76), 0.032, (1, 4), 0.080, 0.049, td v0 degree: 5.265, td v1 degree: 6.982\n",
      "389, (25, 47), 0.032, (2, 3), 0.026, -0.006, td v0 degree: 7.344, td v1 degree: 6.296\n",
      "390, (27, 50), 0.032, (2, 3), 0.164, 0.132, td v0 degree: 7.090, td v1 degree: 4.848\n",
      "391, (76, 111), 0.032, (4, 5), 0.075, 0.044, td v0 degree: 6.982, td v1 degree: 6.118\n",
      "401, (1, 52), 0.031, (4, 3), 0.098, 0.067, td v0 degree: 5.472, td v1 degree: 4.309\n",
      "403, (13, 52), 0.031, (1, 3), 0.049, 0.017, td v0 degree: 5.920, td v1 degree: 4.309\n",
      "409, (2, 110), 0.031, (2, 5), 0.015, -0.016, td v0 degree: 6.067, td v1 degree: 6.654\n",
      "415, (58, 88), 0.031, (1, 2), 0.068, 0.037, td v0 degree: 4.940, td v1 degree: 6.123\n",
      "417, (13, 102), 0.031, (1, 5), 0.000, -0.031, td v0 degree: 5.920, td v1 degree: 4.835\n",
      "420, (27, 69), 0.031, (2, 4), 0.033, 0.002, td v0 degree: 7.090, td v1 degree: 3.490\n",
      "424, (5, 110), 0.031, (2, 5), 0.013, -0.018, td v0 degree: 5.688, td v1 degree: 6.654\n",
      "425, (77, 109), 0.031, (4, 5), 0.174, 0.143, td v0 degree: 5.593, td v1 degree: 4.608\n",
      "426, (4, 90), 0.031, (2, 5), 0.082, 0.051, td v0 degree: 5.160, td v1 degree: 5.455\n",
      "427, (65, 92), 0.031, (2, 5), 0.220, 0.190, td v0 degree: 5.177, td v1 degree: 6.131\n",
      "429, (10, 64), 0.031, (1, 2), 0.156, 0.125, td v0 degree: 4.817, td v1 degree: 6.333\n",
      "430, (72, 98), 0.031, (4, 3), 0.016, -0.015, td v0 degree: 9.478, td v1 degree: 7.162\n",
      "431, (14, 60), 0.031, (2, 1), 0.077, 0.047, td v0 degree: 5.901, td v1 degree: 5.830\n",
      "434, (25, 93), 0.030, (2, 5), 0.016, -0.014, td v0 degree: 7.344, td v1 degree: 6.446\n",
      "441, (64, 93), 0.030, (2, 5), 0.110, 0.080, td v0 degree: 6.333, td v1 degree: 6.446\n",
      "442, (11, 75), 0.030, (1, 4), 0.145, 0.114, td v0 degree: 5.265, td v1 degree: 6.440\n",
      "446, (52, 56), 0.030, (3, 4), 0.039, 0.008, td v0 degree: 4.309, td v1 degree: 5.682\n",
      "448, (30, 33), 0.030, (2, 4), 0.228, 0.198, td v0 degree: 6.237, td v1 degree: 5.331\n",
      "452, (21, 39), 0.030, (2, 4), 0.171, 0.141, td v0 degree: 4.914, td v1 degree: 5.490\n",
      "453, (52, 58), 0.030, (3, 1), 0.242, 0.212, td v0 degree: 4.309, td v1 degree: 4.940\n",
      "454, (21, 110), 0.030, (2, 5), 0.055, 0.025, td v0 degree: 4.914, td v1 degree: 6.654\n",
      "462, (10, 15), 0.030, (1, 2), 0.152, 0.122, td v0 degree: 4.817, td v1 degree: 5.421\n",
      "463, (73, 111), 0.030, (4, 5), 0.039, 0.009, td v0 degree: 7.238, td v1 degree: 6.118\n",
      "464, (15, 52), 0.030, (2, 3), 0.020, -0.009, td v0 degree: 5.421, td v1 degree: 4.309\n",
      "470, (25, 38), 0.030, (2, 4), 0.105, 0.075, td v0 degree: 7.344, td v1 degree: 5.866\n",
      "472, (58, 89), 0.030, (1, 2), 0.119, 0.089, td v0 degree: 4.940, td v1 degree: 4.197\n",
      "477, (20, 114), 0.029, (2, 5), 0.015, -0.014, td v0 degree: 4.746, td v1 degree: 3.899\n",
      "479, (17, 52), 0.029, (4, 3), 0.014, -0.015, td v0 degree: 7.962, td v1 degree: 4.309\n",
      "483, (21, 38), 0.029, (2, 4), 0.163, 0.134, td v0 degree: 4.914, td v1 degree: 5.866\n",
      "487, (25, 43), 0.029, (2, 3), 0.076, 0.047, td v0 degree: 7.344, td v1 degree: 5.728\n",
      "488, (17, 60), 0.029, (4, 1), 0.087, 0.058, td v0 degree: 7.962, td v1 degree: 5.830\n",
      "490, (7, 93), 0.029, (2, 5), 0.042, 0.013, td v0 degree: 5.242, td v1 degree: 6.446\n",
      "492, (53, 68), 0.029, (3, 4), 0.001, -0.028, td v0 degree: 4.082, td v1 degree: 4.193\n",
      "493, (70, 101), 0.029, (4, 5), 0.040, 0.011, td v0 degree: 4.289, td v1 degree: 4.276\n",
      "495, (29, 111), 0.029, (4, 5), 0.041, 0.012, td v0 degree: 9.064, td v1 degree: 6.118\n",
      "496, (13, 100), 0.029, (1, 5), 0.080, 0.051, td v0 degree: 5.920, td v1 degree: 4.061\n"
     ]
    },
    {
     "data": {
      "text/plain": [
       "{(2, 5): 4.2327432024943175,\n",
       " (2, 3): 0.9414783860004449,\n",
       " (1, 2): 2.2432785078986996,\n",
       " (1, 3): 0.9240345271569277,\n",
       " (4, 5): 1.0467769685333053,\n",
       " (2, 4): 1.5693315793071023,\n",
       " (1, 4): 2.8161405061863936,\n",
       " (3, 4): 0.6110369296620519,\n",
       " (1, 5): 0.08063637816139642}"
      ]
     },
     "execution_count": 24,
     "metadata": {},
     "output_type": "execute_result"
    }
   ],
   "source": [
    "count = 0\n",
    "td_inter_edges = []\n",
    "td_intra_edges = []\n",
    "td_inter_edges_inclusion = []\n",
    "td_freq_dict = {}\n",
    "for i, e_idx in enumerate(sorted_edge_indices[:500]):\n",
    "    e = td_asd_edges[e_idx].vertices\n",
    "\n",
    "    path = (td_ci[e[0]], td_ci[e[1]])\n",
    "    if path[0] > path[1]:\n",
    "        path = (path[1], path[0])\n",
    "    \n",
    "    if td_ci[e[0]] != td_ci[e[1]]:\n",
    "        if td_freq_dict.get(path) is None:\n",
    "            td_freq_dict[path] = 0\n",
    "        \n",
    "        count += 1\n",
    "        if td_mean[e] > 0:\n",
    "            td_freq_dict[path] += td_mean[e]\n",
    "            print(f'{i}, {td_asd_edges[e_idx]}, {(td_ci[e[0]], td_ci[e[1]])}, {td_mean[e]:.3f}, {asd_mean[e]:.3f}, td v0 degree: {np.sum(td_positive_mean[e[0], :]):.3f}, td v1 degree: {np.sum(td_positive_mean[e[1], :]):.3f}')\n",
    "        td_inter_edges.append(td_mean[e])\n",
    "    else:\n",
    "        td_intra_edges.append(td_mean[e])\n",
    "        # print(f'{i}, {td_asd_edges[e_idx]}, {(asd_td_ci[e[0]], asd_td_ci[e[1]])}, {td_mean[e]:.3f}')\n",
    "    td_inter_edges_inclusion.append(count / (i + 1))\n",
    "\n",
    "td_inter_edges = np.array(td_inter_edges)\n",
    "td_intra_edges = np.array(td_intra_edges)\n",
    "\n",
    "td_freq_dict"
   ]
  },
  {
   "cell_type": "code",
   "execution_count": 15,
   "metadata": {},
   "outputs": [
    {
     "data": {
      "text/plain": [
       "(127, 168, 295, 12, 193, 205)"
      ]
     },
     "execution_count": 15,
     "metadata": {},
     "output_type": "execute_result"
    }
   ],
   "source": [
    "np.sum(td_inter_edges < 0), np.sum(td_inter_edges > 0), len(td_inter_edges), np.sum(td_intra_edges < 0), np.sum(td_intra_edges > 0), len(td_intra_edges)"
   ]
  },
  {
   "cell_type": "code",
   "execution_count": 16,
   "metadata": {},
   "outputs": [
    {
     "data": {
      "text/plain": [
       "(-6.278125274860848,\n",
       " 14.465456985400639,\n",
       " -0.7612184118408833,\n",
       " 44.12343084050685)"
      ]
     },
     "execution_count": 16,
     "metadata": {},
     "output_type": "execute_result"
    }
   ],
   "source": [
    "np.sum(td_inter_edges[td_inter_edges < 0]), np.sum(td_inter_edges[td_inter_edges > 0]), np.sum(td_intra_edges[td_intra_edges < 0]), np.sum(td_intra_edges[td_intra_edges > 0])"
   ]
  },
  {
   "cell_type": "code",
   "execution_count": 23,
   "metadata": {},
   "outputs": [
    {
     "name": "stdout",
     "output_type": "stream",
     "text": [
      "1, (77, 85), -0.094, (4, 2), -0.083, 0.010, asd v0 degree: 5.583, asd v1 degree: 3.728\n",
      "5, (13, 30), -0.084, (1, 2), -0.061, 0.022, asd v0 degree: 5.159, asd v1 degree: 6.219\n",
      "7, (13, 31), -0.083, (1, 2), -0.026, 0.057, asd v0 degree: 5.159, asd v1 degree: 6.323\n",
      "9, (12, 30), -0.083, (1, 2), -0.042, 0.041, asd v0 degree: 4.770, asd v1 degree: 6.219\n",
      "17, (76, 84), -0.068, (4, 2), -0.031, 0.037, asd v0 degree: 7.164, asd v1 degree: 4.598\n",
      "20, (76, 85), -0.066, (4, 2), -0.062, 0.004, asd v0 degree: 7.164, asd v1 degree: 3.728\n",
      "21, (37, 85), -0.066, (4, 2), 0.065, 0.131, asd v0 degree: 7.227, asd v1 degree: 3.728\n",
      "34, (89, 105), -0.059, (2, 5), -0.040, 0.018, asd v0 degree: 4.217, asd v1 degree: 4.454\n",
      "43, (30, 70), -0.056, (2, 4), 0.181, 0.236, asd v0 degree: 6.219, asd v1 degree: 4.475\n",
      "50, (73, 85), -0.055, (4, 2), -0.018, 0.037, asd v0 degree: 7.328, asd v1 degree: 3.728\n",
      "51, (28, 30), -0.054, (4, 2), 0.159, 0.214, asd v0 degree: 8.753, asd v1 degree: 6.219\n",
      "53, (54, 88), -0.054, (3, 2), 0.165, 0.219, asd v0 degree: 5.200, asd v1 degree: 5.479\n",
      "55, (51, 67), -0.054, (3, 2), -0.019, 0.035, asd v0 degree: 5.379, asd v1 degree: 4.993\n",
      "57, (52, 92), -0.054, (3, 5), -0.048, 0.005, asd v0 degree: 3.954, asd v1 degree: 5.445\n",
      "59, (39, 89), -0.053, (4, 2), 0.137, 0.189, asd v0 degree: 5.419, asd v1 degree: 4.217\n",
      "66, (37, 89), -0.052, (4, 2), 0.027, 0.078, asd v0 degree: 7.227, asd v1 degree: 4.217\n",
      "75, (37, 84), -0.050, (4, 2), -0.023, 0.028, asd v0 degree: 7.227, asd v1 degree: 4.598\n",
      "78, (30, 72), -0.050, (2, 4), 0.139, 0.189, asd v0 degree: 6.219, asd v1 degree: 8.972\n",
      "83, (88, 90), -0.049, (2, 5), -0.016, 0.033, asd v0 degree: 5.479, asd v1 degree: 5.350\n",
      "95, (89, 95), -0.048, (2, 5), -0.017, 0.031, asd v0 degree: 4.217, asd v1 degree: 5.023\n",
      "96, (58, 67), -0.048, (1, 2), 0.042, 0.090, asd v0 degree: 4.785, asd v1 degree: 4.993\n",
      "100, (59, 67), -0.047, (1, 2), 0.147, 0.194, asd v0 degree: 4.762, asd v1 degree: 4.993\n",
      "109, (75, 85), -0.046, (4, 2), -0.036, 0.010, asd v0 degree: 6.373, asd v1 degree: 3.728\n",
      "115, (60, 64), -0.046, (1, 2), 0.167, 0.212, asd v0 degree: 5.199, asd v1 degree: 5.286\n",
      "119, (55, 95), -0.045, (3, 5), 0.112, 0.157, asd v0 degree: 7.044, asd v1 degree: 5.023\n",
      "124, (39, 88), -0.045, (4, 2), 0.057, 0.102, asd v0 degree: 5.419, asd v1 degree: 5.479\n",
      "128, (1, 3), -0.045, (4, 2), -0.035, 0.009, asd v0 degree: 4.900, asd v1 degree: 5.341\n",
      "129, (3, 19), -0.045, (2, 4), 0.058, 0.102, asd v0 degree: 5.341, asd v1 degree: 3.815\n",
      "139, (54, 95), -0.044, (3, 5), 0.068, 0.112, asd v0 degree: 5.200, asd v1 degree: 5.023\n",
      "141, (12, 22), -0.044, (1, 2), -0.007, 0.037, asd v0 degree: 4.770, asd v1 degree: 6.730\n",
      "142, (38, 88), -0.044, (4, 2), 0.124, 0.167, asd v0 degree: 5.981, asd v1 degree: 5.479\n",
      "144, (55, 115), -0.043, (3, 5), 0.010, 0.054, asd v0 degree: 7.044, asd v1 degree: 4.007\n",
      "150, (39, 85), -0.043, (4, 2), 0.001, 0.044, asd v0 degree: 5.419, asd v1 degree: 3.728\n",
      "151, (54, 105), -0.043, (3, 5), -0.005, 0.038, asd v0 degree: 5.200, asd v1 degree: 4.454\n",
      "152, (54, 94), -0.043, (3, 5), 0.071, 0.114, asd v0 degree: 5.200, asd v1 degree: 4.534\n",
      "154, (98, 110), -0.043, (3, 5), 0.095, 0.138, asd v0 degree: 7.150, asd v1 degree: 6.004\n",
      "155, (55, 89), -0.043, (3, 2), 0.171, 0.214, asd v0 degree: 7.044, asd v1 degree: 4.217\n",
      "156, (10, 30), -0.043, (1, 2), 0.008, 0.051, asd v0 degree: 4.427, asd v1 degree: 6.219\n",
      "157, (89, 108), -0.043, (2, 5), -0.027, 0.016, asd v0 degree: 4.217, asd v1 degree: 3.741\n",
      "159, (74, 85), -0.043, (4, 2), -0.000, 0.043, asd v0 degree: 7.407, asd v1 degree: 3.728\n",
      "165, (54, 115), -0.043, (3, 5), 0.011, 0.053, asd v0 degree: 5.200, asd v1 degree: 4.007\n",
      "168, (68, 91), -0.043, (4, 5), -0.030, 0.012, asd v0 degree: 4.099, asd v1 degree: 5.738\n",
      "178, (68, 90), -0.042, (4, 5), -0.025, 0.017, asd v0 degree: 4.099, asd v1 degree: 5.350\n",
      "180, (73, 84), -0.042, (4, 2), -0.031, 0.011, asd v0 degree: 7.328, asd v1 degree: 4.598\n",
      "185, (85, 95), -0.042, (2, 5), -0.041, 0.001, asd v0 degree: 3.728, asd v1 degree: 5.023\n",
      "201, (61, 64), -0.041, (1, 2), -0.012, 0.029, asd v0 degree: 4.876, asd v1 degree: 5.286\n",
      "202, (36, 84), -0.041, (4, 2), 0.080, 0.121, asd v0 degree: 7.790, asd v1 degree: 4.598\n",
      "204, (61, 65), -0.041, (1, 2), 0.342, 0.383, asd v0 degree: 4.876, asd v1 degree: 4.734\n",
      "205, (3, 13), -0.041, (2, 1), -0.003, 0.038, asd v0 degree: 5.341, asd v1 degree: 5.159\n",
      "207, (46, 112), -0.040, (3, 5), 0.115, 0.155, asd v0 degree: 6.584, asd v1 degree: 4.915\n",
      "214, (89, 115), -0.039, (2, 5), -0.032, 0.008, asd v0 degree: 4.217, asd v1 degree: 4.007\n",
      "223, (29, 30), -0.039, (4, 2), 0.117, 0.156, asd v0 degree: 8.618, asd v1 degree: 6.219\n",
      "228, (49, 66), -0.038, (3, 1), 0.052, 0.090, asd v0 degree: 5.573, asd v1 degree: 4.007\n",
      "230, (16, 95), -0.038, (4, 5), -0.035, 0.003, asd v0 degree: 7.591, asd v1 degree: 5.023\n",
      "234, (35, 43), -0.038, (2, 3), 0.025, 0.063, asd v0 degree: 3.701, asd v1 degree: 5.922\n",
      "235, (93, 98), -0.038, (5, 3), -0.011, 0.027, asd v0 degree: 5.719, asd v1 degree: 7.150\n",
      "246, (20, 28), -0.038, (2, 4), -0.028, 0.010, asd v0 degree: 4.840, asd v1 degree: 8.753\n",
      "257, (44, 66), -0.037, (3, 1), 0.106, 0.143, asd v0 degree: 5.445, asd v1 degree: 4.007\n",
      "261, (92, 98), -0.037, (5, 3), -0.019, 0.018, asd v0 degree: 5.445, asd v1 degree: 7.150\n",
      "263, (41, 89), -0.037, (4, 2), -0.021, 0.017, asd v0 degree: 6.259, asd v1 degree: 4.217\n",
      "266, (31, 70), -0.037, (2, 4), 0.148, 0.185, asd v0 degree: 6.323, asd v1 degree: 4.475\n",
      "268, (55, 112), -0.037, (3, 5), 0.082, 0.119, asd v0 degree: 7.044, asd v1 degree: 4.915\n",
      "269, (89, 97), -0.037, (2, 5), 0.008, 0.045, asd v0 degree: 4.217, asd v1 degree: 6.156\n",
      "270, (49, 67), -0.037, (3, 2), 0.029, 0.065, asd v0 degree: 5.573, asd v1 degree: 4.993\n",
      "273, (63, 66), -0.037, (4, 1), 0.032, 0.069, asd v0 degree: 6.832, asd v1 degree: 4.007\n",
      "278, (81, 109), -0.036, (4, 5), -0.017, 0.019, asd v0 degree: 8.037, asd v1 degree: 4.497\n",
      "280, (13, 71), -0.036, (1, 4), 0.046, 0.082, asd v0 degree: 5.159, asd v1 degree: 4.754\n",
      "283, (30, 73), -0.036, (2, 4), 0.131, 0.167, asd v0 degree: 6.219, asd v1 degree: 7.328\n",
      "284, (28, 31), -0.036, (4, 2), 0.143, 0.179, asd v0 degree: 8.753, asd v1 degree: 6.323\n",
      "294, (55, 104), -0.035, (3, 5), -0.021, 0.014, asd v0 degree: 7.044, asd v1 degree: 4.776\n",
      "296, (19, 23), -0.035, (4, 2), 0.012, 0.047, asd v0 degree: 3.815, asd v1 degree: 6.675\n",
      "302, (54, 109), -0.035, (3, 5), 0.053, 0.088, asd v0 degree: 5.200, asd v1 degree: 4.497\n",
      "304, (46, 111), -0.035, (3, 5), 0.211, 0.246, asd v0 degree: 6.584, asd v1 degree: 6.298\n",
      "307, (46, 113), -0.035, (3, 5), 0.016, 0.051, asd v0 degree: 6.584, asd v1 degree: 4.503\n",
      "309, (89, 113), -0.035, (2, 5), -0.026, 0.009, asd v0 degree: 4.217, asd v1 degree: 4.503\n",
      "314, (11, 79), -0.035, (1, 4), -0.014, 0.021, asd v0 degree: 4.785, asd v1 degree: 6.397\n",
      "319, (41, 84), -0.034, (4, 2), -0.015, 0.019, asd v0 degree: 6.259, asd v1 degree: 4.598\n",
      "333, (0, 6), -0.034, (4, 2), 0.066, 0.100, asd v0 degree: 4.359, asd v1 degree: 4.843\n",
      "339, (53, 111), -0.034, (3, 5), 0.098, 0.132, asd v0 degree: 4.206, asd v1 degree: 6.298\n",
      "342, (26, 83), -0.034, (2, 4), -0.019, 0.015, asd v0 degree: 5.443, asd v1 degree: 5.189\n",
      "346, (46, 114), -0.034, (3, 5), -0.026, 0.007, asd v0 degree: 6.584, asd v1 degree: 3.771\n",
      "347, (69, 92), -0.034, (4, 5), 0.002, 0.036, asd v0 degree: 3.551, asd v1 degree: 5.445\n",
      "349, (79, 109), -0.034, (4, 5), 0.005, 0.039, asd v0 degree: 6.397, asd v1 degree: 4.497\n",
      "352, (31, 81), -0.033, (2, 4), -0.029, 0.005, asd v0 degree: 6.323, asd v1 degree: 8.037\n",
      "355, (96, 102), -0.033, (3, 5), -0.013, 0.020, asd v0 degree: 6.911, asd v1 degree: 4.516\n",
      "357, (41, 85), -0.033, (4, 2), 0.025, 0.058, asd v0 degree: 6.259, asd v1 degree: 3.728\n",
      "361, (89, 114), -0.033, (2, 5), -0.030, 0.003, asd v0 degree: 4.217, asd v1 degree: 3.771\n",
      "362, (30, 81), -0.033, (2, 4), -0.030, 0.004, asd v0 degree: 6.219, asd v1 degree: 8.037\n",
      "365, (31, 72), -0.033, (2, 4), 0.095, 0.128, asd v0 degree: 6.323, asd v1 degree: 8.972\n",
      "367, (46, 110), -0.033, (3, 5), 0.137, 0.170, asd v0 degree: 6.584, asd v1 degree: 6.004\n",
      "369, (17, 85), -0.033, (4, 2), -0.016, 0.017, asd v0 degree: 7.492, asd v1 degree: 3.728\n",
      "376, (37, 54), -0.033, (4, 3), 0.168, 0.201, asd v0 degree: 7.227, asd v1 degree: 5.200\n",
      "378, (55, 114), -0.033, (3, 5), 0.000, 0.033, asd v0 degree: 7.044, asd v1 degree: 3.771\n",
      "379, (54, 114), -0.033, (3, 5), 0.009, 0.041, asd v0 degree: 5.200, asd v1 degree: 3.771\n",
      "382, (29, 31), -0.033, (4, 2), 0.132, 0.164, asd v0 degree: 8.618, asd v1 degree: 6.323\n",
      "387, (55, 105), -0.033, (3, 5), -0.012, 0.021, asd v0 degree: 7.044, asd v1 degree: 4.454\n",
      "395, (35, 69), -0.032, (2, 4), -0.017, 0.015, asd v0 degree: 3.701, asd v1 degree: 3.551\n",
      "408, (20, 72), -0.032, (2, 4), 0.008, 0.040, asd v0 degree: 4.840, asd v1 degree: 8.972\n",
      "410, (14, 40), -0.032, (2, 4), 0.030, 0.062, asd v0 degree: 5.810, asd v1 degree: 6.293\n",
      "412, (67, 90), -0.032, (2, 5), 0.060, 0.092, asd v0 degree: 4.993, asd v1 degree: 5.350\n",
      "415, (53, 112), -0.032, (3, 5), 0.083, 0.115, asd v0 degree: 4.206, asd v1 degree: 4.915\n",
      "416, (54, 84), -0.032, (3, 2), 0.020, 0.052, asd v0 degree: 5.200, asd v1 degree: 4.598\n",
      "418, (37, 87), -0.032, (4, 2), 0.086, 0.118, asd v0 degree: 7.227, asd v1 degree: 3.973\n",
      "421, (38, 54), -0.032, (4, 3), 0.344, 0.376, asd v0 degree: 5.981, asd v1 degree: 5.200\n",
      "423, (89, 104), -0.032, (2, 5), -0.023, 0.009, asd v0 degree: 4.217, asd v1 degree: 4.776\n",
      "430, (36, 54), -0.031, (4, 3), 0.187, 0.219, asd v0 degree: 7.790, asd v1 degree: 5.200\n",
      "434, (33, 66), -0.031, (4, 1), 0.004, 0.036, asd v0 degree: 5.360, asd v1 degree: 4.007\n",
      "444, (36, 95), -0.031, (4, 5), 0.114, 0.145, asd v0 degree: 7.790, asd v1 degree: 5.023\n",
      "445, (10, 31), -0.031, (1, 2), -0.027, 0.004, asd v0 degree: 4.427, asd v1 degree: 6.323\n",
      "447, (67, 69), -0.031, (2, 4), 0.200, 0.231, asd v0 degree: 4.993, asd v1 degree: 3.551\n",
      "450, (39, 87), -0.030, (4, 2), 0.194, 0.225, asd v0 degree: 5.419, asd v1 degree: 3.973\n",
      "453, (53, 109), -0.030, (3, 5), -0.021, 0.009, asd v0 degree: 4.206, asd v1 degree: 4.497\n",
      "454, (12, 70), -0.030, (1, 4), 0.018, 0.049, asd v0 degree: 4.770, asd v1 degree: 4.475\n",
      "457, (47, 91), -0.030, (3, 5), 0.066, 0.096, asd v0 degree: 6.496, asd v1 degree: 5.738\n",
      "465, (69, 90), -0.030, (4, 5), 0.126, 0.156, asd v0 degree: 3.551, asd v1 degree: 5.350\n",
      "471, (33, 60), -0.030, (4, 1), 0.092, 0.122, asd v0 degree: 5.360, asd v1 degree: 5.199\n",
      "478, (53, 97), -0.030, (3, 5), 0.001, 0.030, asd v0 degree: 4.206, asd v1 degree: 6.156\n",
      "479, (31, 73), -0.030, (2, 4), 0.113, 0.142, asd v0 degree: 6.323, asd v1 degree: 7.328\n",
      "485, (2, 33), -0.030, (2, 4), -0.006, 0.024, asd v0 degree: 5.556, asd v1 degree: 5.360\n",
      "488, (78, 109), -0.029, (4, 5), 0.003, 0.033, asd v0 degree: 6.288, asd v1 degree: 4.497\n",
      "493, (38, 89), -0.029, (4, 2), 0.124, 0.153, asd v0 degree: 5.981, asd v1 degree: 4.217\n",
      "499, (54, 113), -0.029, (3, 5), 0.019, 0.049, asd v0 degree: 5.200, asd v1 degree: 4.503\n"
     ]
    },
    {
     "data": {
      "text/plain": [
       "{(2, 4): 4.042320461914259,\n",
       " (1, 2): 1.157648329918898,\n",
       " (4, 5): 0.4592014516219413,\n",
       " (2, 3): 0.6478011204405649,\n",
       " (2, 5): 0.26369041866120546,\n",
       " (3, 5): 2.112387982228317,\n",
       " (1, 3): 0.23359321388362056,\n",
       " (1, 4): 0.3774401240123482,\n",
       " (1, 5): 0,\n",
       " (3, 4): 0.7948344714411018}"
      ]
     },
     "execution_count": 23,
     "metadata": {},
     "output_type": "execute_result"
    }
   ],
   "source": [
    "count = 0\n",
    "asd_inter_edges = []\n",
    "asd_intra_edges = []\n",
    "asd_inter_edges_inclusion = []\n",
    "asd_freq_dict = {}\n",
    "\n",
    "for i, e_idx in enumerate(reversed(sorted_edge_indices[-500:])):\n",
    "    e = td_asd_edges[e_idx].vertices\n",
    "\n",
    "    path = (td_ci[e[0]], td_ci[e[1]])\n",
    "    if path[0] > path[1]:\n",
    "        path = (path[1], path[0])\n",
    "    \n",
    "    if td_ci[e[0]] != td_ci[e[1]]:\n",
    "        if asd_freq_dict.get(path) is None:\n",
    "            asd_freq_dict[path] = 0\n",
    "        count += 1\n",
    "        if asd_mean[e] > 0:\n",
    "            asd_freq_dict[path] += asd_mean[e]\n",
    "            print(f'{i}, {td_asd_edges[e_idx]}, {(td_ci[e[0]], td_ci[e[1]])}, {td_mean[e]:.3f}, {asd_mean[e]:.3f}, asd v0 degree: {np.sum(asd_positive_mean[e[0], :]):.3f}, asd v1 degree: {np.sum(asd_positive_mean[e[1], :]):.3f}')\n",
    "        asd_inter_edges.append(asd_mean[e])\n",
    "    else:\n",
    "        asd_intra_edges.append(asd_mean[e])\n",
    "        # print(f'{i}, {td_asd_edges[e_idx]}, {(asd_td_ci[e[0]], asd_td_ci[e[1]])}, {td_mean[e]:.3f}')\n",
    "    asd_inter_edges_inclusion.append(count / (i + 1))\n",
    "\n",
    "asd_inter_edges = np.array(asd_inter_edges)\n",
    "asd_intra_edges = np.array(asd_intra_edges)\n",
    "\n",
    "asd_freq_dict"
   ]
  },
  {
   "cell_type": "code",
   "execution_count": 18,
   "metadata": {},
   "outputs": [
    {
     "data": {
      "text/plain": [
       "(281, 122, 403, 9, 88, 97)"
      ]
     },
     "execution_count": 18,
     "metadata": {},
     "output_type": "execute_result"
    }
   ],
   "source": [
    "np.sum(asd_inter_edges < 0), np.sum(asd_inter_edges > 0), len(asd_inter_edges), np.sum(asd_intra_edges < 0), np.sum(asd_intra_edges > 0), len(asd_intra_edges)"
   ]
  },
  {
   "cell_type": "code",
   "execution_count": 19,
   "metadata": {},
   "outputs": [
    {
     "data": {
      "text/plain": [
       "(-29.040146165384257,\n",
       " 10.088917574122256,\n",
       " -0.2806215079491956,\n",
       " 16.077727122557917)"
      ]
     },
     "execution_count": 19,
     "metadata": {},
     "output_type": "execute_result"
    }
   ],
   "source": [
    "np.sum(asd_inter_edges[asd_inter_edges < 0]), np.sum(asd_inter_edges[asd_inter_edges > 0]), np.sum(asd_intra_edges[asd_intra_edges < 0]), np.sum(asd_intra_edges[asd_intra_edges > 0])"
   ]
  },
  {
   "cell_type": "code",
   "execution_count": 21,
   "metadata": {},
   "outputs": [
    {
     "data": {
      "image/png": "[encoded data removed]",
      "text/plain": [
       "<Figure size 432x288 with 1 Axes>"
      ]
     },
     "metadata": {
      "needs_background": "light"
     },
     "output_type": "display_data"
    }
   ],
   "source": [
    "plt.hist(asd_inter_edges);"
   ]
  },
  {
   "cell_type": "code",
   "execution_count": null,
   "metadata": {},
   "outputs": [],
   "source": []
  },
  {
   "cell_type": "code",
   "execution_count": 22,
   "metadata": {},
   "outputs": [
    {
     "data": {
      "image/png": "[encoded data removed]",
      "text/plain": [
       "<Figure size 432x288 with 1 Axes>"
      ]
     },
     "metadata": {
      "needs_background": "light"
     },
     "output_type": "display_data"
    }
   ],
   "source": [
    "plt.hist(asd_intra_edges);"
   ]
  },
  {
   "cell_type": "code",
   "execution_count": null,
   "metadata": {},
   "outputs": [
    {
     "data": {
      "image/png": "[encoded data removed]",
      "text/plain": [
       "<Figure size 432x288 with 1 Axes>"
      ]
     },
     "metadata": {
      "needs_background": "light"
     },
     "output_type": "display_data"
    }
   ],
   "source": [
    "plt.plot(inter_edges_inclusion);"
   ]
  },
  {
   "cell_type": "code",
   "execution_count": null,
   "metadata": {},
   "outputs": [],
   "source": [
    "asd_ci, asd_q = modularity.modularity_louvain_und_sign(asd_mean, qtype='sta', seed=seed)\n",
    "\n",
    "print('negative edges:')\n",
    "measure_edge_weight(asd_ci, td_mean * (td_mean < 0), edge_combo)\n",
    "\n",
    "print('\\npositive edges:')\n",
    "measure_edge_weight(asd_ci, td_mean * (td_mean > 0), edge_combo)"
   ]
  },
  {
   "cell_type": "code",
   "execution_count": null,
   "metadata": {},
   "outputs": [
    {
     "name": "stdout",
     "output_type": "stream",
     "text": [
      "1, (77, 85), -0.094, (2, 1), 0.010, -0.083\n",
      "2, (77, 84), -0.089, (2, 1), -0.015, -0.104\n",
      "6, (61, 67), -0.084, (1, 3), -0.019, -0.103\n",
      "15, (57, 92), -0.069, (2, 3), -0.151, -0.220\n",
      "17, (76, 84), -0.068, (2, 1), 0.037, -0.031\n",
      "20, (76, 85), -0.066, (2, 1), 0.004, -0.062\n",
      "21, (37, 85), -0.066, (2, 1), 0.131, 0.065\n",
      "28, (57, 90), -0.060, (2, 3), -0.042, -0.102\n",
      "34, (89, 105), -0.059, (1, 3), 0.018, -0.040\n",
      "41, (22, 72), -0.056, (1, 2), -0.182, -0.238\n",
      "43, (30, 70), -0.056, (1, 2), 0.236, 0.181\n",
      "46, (34, 80), -0.055, (3, 2), -0.095, -0.150\n",
      "48, (27, 29), -0.055, (1, 2), -0.233, -0.288\n",
      "50, (73, 85), -0.055, (2, 1), 0.037, -0.018\n",
      "51, (28, 30), -0.054, (2, 1), 0.214, 0.159\n",
      "52, (57, 91), -0.054, (2, 3), -0.088, -0.142\n",
      "53, (54, 88), -0.054, (3, 1), 0.219, 0.165\n",
      "54, (24, 28), -0.054, (1, 2), -0.106, -0.160\n",
      "56, (24, 72), -0.054, (1, 2), -0.115, -0.169\n",
      "59, (39, 89), -0.053, (2, 1), 0.189, 0.137\n",
      "60, (56, 92), -0.053, (2, 3), -0.152, -0.205\n",
      "63, (24, 29), -0.052, (1, 2), -0.131, -0.183\n",
      "64, (45, 60), -0.052, (3, 1), -0.165, -0.217\n",
      "66, (37, 89), -0.052, (2, 1), 0.078, 0.027\n",
      "68, (63, 67), -0.051, (2, 3), -0.188, -0.239\n",
      "74, (56, 91), -0.050, (2, 3), -0.107, -0.157\n",
      "75, (37, 84), -0.050, (2, 1), 0.028, -0.023\n",
      "76, (60, 67), -0.050, (1, 3), -0.054, -0.105\n",
      "78, (30, 72), -0.050, (1, 2), 0.189, 0.139\n",
      "79, (27, 83), -0.050, (1, 2), -0.003, -0.053\n",
      "80, (85, 104), -0.050, (1, 3), -0.080, -0.130\n",
      "82, (62, 64), -0.049, (2, 1), -0.055, -0.104\n",
      "83, (88, 90), -0.049, (1, 3), 0.033, -0.016\n",
      "87, (84, 109), -0.049, (1, 3), -0.010, -0.059\n",
      "89, (63, 65), -0.049, (2, 1), -0.040, -0.089\n",
      "91, (56, 90), -0.048, (2, 3), -0.085, -0.134\n",
      "92, (35, 61), -0.048, (3, 1), -0.017, -0.065\n",
      "93, (84, 90), -0.048, (1, 3), -0.144, -0.193\n",
      "94, (27, 63), -0.048, (1, 2), -0.250, -0.298\n",
      "95, (89, 95), -0.048, (1, 3), 0.031, -0.017\n",
      "96, (58, 67), -0.048, (1, 3), 0.090, 0.042\n",
      "97, (34, 62), -0.048, (3, 2), -0.113, -0.160\n",
      "98, (35, 57), -0.047, (3, 2), -0.122, -0.169\n",
      "99, (23, 52), -0.047, (1, 3), -0.090, -0.138\n",
      "102, (1, 23), -0.047, (2, 1), -0.215, -0.262\n",
      "103, (22, 29), -0.047, (1, 2), -0.253, -0.300\n",
      "104, (33, 58), -0.047, (2, 1), -0.075, -0.122\n",
      "105, (27, 28), -0.047, (1, 2), -0.211, -0.258\n",
      "106, (1, 27), -0.047, (2, 1), -0.116, -0.163\n",
      "107, (2, 49), -0.046, (1, 3), -0.115, -0.162\n",
      "109, (75, 85), -0.046, (2, 1), 0.010, -0.036\n",
      "110, (85, 109), -0.046, (1, 3), -0.004, -0.050\n",
      "111, (80, 110), -0.046, (2, 3), -0.080, -0.126\n",
      "114, (28, 110), -0.046, (2, 3), -0.154, -0.200\n",
      "116, (34, 63), -0.045, (3, 2), -0.143, -0.188\n",
      "118, (80, 91), -0.045, (2, 3), -0.154, -0.200\n",
      "123, (36, 88), -0.045, (2, 1), -0.022, -0.067\n",
      "124, (39, 88), -0.045, (2, 1), 0.102, 0.057\n",
      "125, (57, 65), -0.045, (2, 1), -0.194, -0.239\n",
      "126, (25, 72), -0.045, (1, 2), -0.158, -0.203\n",
      "128, (1, 3), -0.045, (2, 1), 0.009, -0.035\n",
      "129, (3, 19), -0.045, (1, 2), 0.102, 0.058\n",
      "130, (7, 69), -0.045, (1, 2), -0.099, -0.143\n",
      "131, (16, 34), -0.045, (2, 3), -0.099, -0.144\n",
      "132, (27, 72), -0.044, (1, 2), -0.229, -0.273\n",
      "133, (16, 110), -0.044, (2, 3), -0.122, -0.167\n",
      "134, (56, 64), -0.044, (2, 1), -0.155, -0.200\n",
      "136, (44, 60), -0.044, (3, 1), -0.120, -0.164\n",
      "137, (2, 44), -0.044, (1, 3), -0.066, -0.110\n",
      "138, (35, 56), -0.044, (3, 2), -0.128, -0.172\n",
      "142, (38, 88), -0.044, (2, 1), 0.167, 0.124\n",
      "146, (25, 28), -0.043, (1, 2), -0.151, -0.195\n",
      "148, (68, 92), -0.043, (2, 3), -0.075, -0.119\n",
      "150, (39, 85), -0.043, (2, 1), 0.044, 0.001\n",
      "153, (55, 88), -0.043, (3, 1), -0.014, -0.057\n",
      "155, (55, 89), -0.043, (3, 1), 0.214, 0.171\n",
      "157, (89, 108), -0.043, (1, 3), 0.016, -0.027\n",
      "158, (16, 31), -0.043, (2, 1), -0.033, -0.076\n",
      "159, (74, 85), -0.043, (2, 1), 0.043, -0.000\n",
      "161, (63, 110), -0.043, (2, 3), -0.191, -0.234\n",
      "163, (45, 58), -0.043, (3, 1), -0.061, -0.103\n",
      "164, (25, 29), -0.043, (1, 2), -0.138, -0.181\n",
      "167, (79, 92), -0.043, (2, 3), -0.184, -0.226\n",
      "168, (68, 91), -0.043, (2, 3), 0.012, -0.030\n",
      "170, (64, 80), -0.042, (1, 2), -0.192, -0.234\n",
      "172, (85, 90), -0.042, (1, 3), -0.148, -0.190\n",
      "173, (34, 81), -0.042, (3, 2), -0.069, -0.112\n",
      "175, (34, 60), -0.042, (3, 1), -0.063, -0.105\n",
      "177, (84, 110), -0.042, (1, 3), -0.012, -0.054\n",
      "178, (68, 90), -0.042, (2, 3), 0.017, -0.025\n",
      "179, (35, 60), -0.042, (3, 1), -0.028, -0.070\n",
      "180, (73, 84), -0.042, (2, 1), 0.011, -0.031\n",
      "181, (1, 92), -0.042, (2, 3), -0.079, -0.121\n",
      "182, (78, 92), -0.042, (2, 3), -0.167, -0.208\n",
      "184, (80, 92), -0.042, (2, 3), -0.198, -0.239\n",
      "185, (85, 95), -0.042, (1, 3), 0.001, -0.041\n",
      "188, (65, 69), -0.042, (1, 2), -0.080, -0.121\n",
      "189, (81, 110), -0.042, (2, 3), -0.073, -0.115\n",
      "191, (57, 93), -0.041, (2, 3), -0.110, -0.151\n",
      "192, (34, 78), -0.041, (3, 2), -0.014, -0.056\n",
      "193, (24, 83), -0.041, (1, 2), -0.058, -0.099\n",
      "195, (35, 68), -0.041, (3, 2), -0.063, -0.104\n",
      "196, (81, 91), -0.041, (2, 3), -0.197, -0.238\n",
      "200, (63, 64), -0.041, (2, 1), -0.121, -0.162\n",
      "202, (36, 84), -0.041, (2, 1), 0.121, 0.080\n",
      "203, (1, 88), -0.041, (2, 1), -0.058, -0.099\n",
      "210, (85, 91), -0.040, (1, 3), -0.139, -0.179\n",
      "211, (35, 80), -0.040, (3, 2), -0.135, -0.174\n",
      "213, (79, 90), -0.039, (2, 3), -0.192, -0.231\n",
      "214, (89, 115), -0.039, (1, 3), 0.008, -0.032\n",
      "215, (62, 110), -0.039, (2, 3), -0.169, -0.209\n",
      "216, (80, 93), -0.039, (2, 3), -0.193, -0.232\n",
      "219, (61, 110), -0.039, (1, 3), -0.201, -0.240\n",
      "221, (57, 113), -0.039, (2, 3), -0.008, -0.047\n",
      "222, (1, 67), -0.039, (2, 3), -0.196, -0.235\n",
      "223, (29, 30), -0.039, (2, 1), 0.156, 0.117\n",
      "224, (28, 96), -0.039, (2, 3), -0.076, -0.114\n",
      "226, (17, 27), -0.039, (2, 1), -0.197, -0.235\n",
      "227, (33, 50), -0.038, (2, 3), -0.191, -0.229\n",
      "229, (1, 35), -0.038, (2, 3), -0.168, -0.206\n",
      "230, (16, 95), -0.038, (2, 3), 0.003, -0.035\n",
      "231, (89, 111), -0.038, (1, 3), -0.076, -0.114\n",
      "233, (25, 83), -0.038, (1, 2), -0.014, -0.052\n",
      "236, (19, 27), -0.038, (2, 1), -0.065, -0.103\n",
      "237, (24, 49), -0.038, (1, 3), -0.032, -0.070\n",
      "238, (84, 95), -0.038, (1, 3), -0.045, -0.083\n",
      "239, (35, 63), -0.038, (3, 2), -0.158, -0.196\n",
      "241, (85, 92), -0.038, (1, 3), -0.004, -0.042\n",
      "243, (11, 57), -0.038, (1, 2), -0.133, -0.171\n",
      "245, (27, 62), -0.038, (1, 2), -0.226, -0.263\n",
      "246, (20, 28), -0.038, (1, 2), 0.010, -0.028\n",
      "247, (56, 93), -0.038, (2, 3), -0.128, -0.166\n",
      "250, (22, 28), -0.038, (1, 2), -0.126, -0.164\n",
      "253, (19, 88), -0.037, (2, 1), -0.025, -0.062\n",
      "254, (4, 46), -0.037, (1, 3), -0.087, -0.124\n",
      "259, (34, 72), -0.037, (3, 2), -0.093, -0.130\n",
      "263, (41, 89), -0.037, (2, 1), 0.017, -0.021\n",
      "266, (31, 70), -0.037, (1, 2), 0.185, 0.148\n",
      "269, (89, 97), -0.037, (1, 3), 0.045, 0.008\n",
      "272, (34, 61), -0.037, (3, 1), -0.116, -0.152\n",
      "273, (63, 66), -0.037, (2, 3), 0.069, 0.032\n",
      "275, (29, 64), -0.036, (2, 1), -0.157, -0.193\n",
      "276, (33, 59), -0.036, (2, 3), -0.092, -0.128\n",
      "278, (81, 109), -0.036, (2, 3), 0.019, -0.017\n",
      "279, (16, 109), -0.036, (2, 3), -0.002, -0.038\n",
      "280, (13, 71), -0.036, (1, 2), 0.082, 0.046\n",
      "281, (16, 30), -0.036, (2, 1), -0.006, -0.042\n",
      "283, (30, 73), -0.036, (1, 2), 0.167, 0.131\n",
      "284, (28, 31), -0.036, (2, 1), 0.179, 0.143\n",
      "285, (6, 45), -0.036, (1, 3), -0.059, -0.095\n",
      "287, (28, 34), -0.036, (2, 3), -0.099, -0.134\n",
      "288, (7, 68), -0.036, (1, 2), -0.201, -0.237\n",
      "289, (79, 91), -0.036, (2, 3), -0.197, -0.232\n",
      "292, (36, 64), -0.035, (2, 1), -0.132, -0.167\n",
      "293, (2, 29), -0.035, (1, 2), -0.236, -0.271\n",
      "296, (19, 23), -0.035, (2, 1), 0.047, 0.012\n",
      "299, (57, 95), -0.035, (2, 3), -0.009, -0.044\n",
      "300, (19, 22), -0.035, (2, 1), -0.055, -0.090\n",
      "303, (25, 49), -0.035, (1, 3), -0.092, -0.127\n",
      "306, (1, 2), -0.035, (2, 1), -0.159, -0.194\n",
      "308, (26, 29), -0.035, (1, 2), -0.189, -0.224\n",
      "309, (89, 113), -0.035, (1, 3), 0.009, -0.026\n",
      "310, (85, 111), -0.035, (1, 3), -0.064, -0.098\n",
      "312, (6, 44), -0.035, (1, 3), -0.037, -0.072\n",
      "313, (60, 110), -0.035, (1, 3), -0.185, -0.220\n",
      "314, (11, 79), -0.035, (1, 2), 0.021, -0.014\n",
      "317, (84, 104), -0.034, (1, 3), -0.103, -0.138\n",
      "318, (31, 56), -0.034, (1, 2), -0.144, -0.179\n",
      "319, (41, 84), -0.034, (2, 1), 0.019, -0.015\n",
      "320, (34, 56), -0.034, (3, 2), -0.083, -0.117\n",
      "321, (36, 89), -0.034, (2, 1), -0.014, -0.048\n",
      "322, (81, 92), -0.034, (2, 3), -0.249, -0.283\n",
      "324, (88, 98), -0.034, (1, 3), -0.114, -0.148\n",
      "325, (73, 87), -0.034, (2, 1), -0.016, -0.050\n",
      "327, (31, 80), -0.034, (1, 2), -0.013, -0.047\n",
      "328, (81, 93), -0.034, (2, 3), -0.219, -0.253\n",
      "329, (56, 65), -0.034, (2, 1), -0.152, -0.186\n",
      "331, (17, 23), -0.034, (2, 1), -0.243, -0.277\n",
      "332, (19, 35), -0.034, (2, 3), -0.087, -0.121\n",
      "333, (0, 6), -0.034, (2, 1), 0.100, 0.066\n",
      "335, (4, 43), -0.034, (1, 3), -0.092, -0.126\n",
      "337, (1, 22), -0.034, (2, 1), -0.222, -0.256\n",
      "342, (26, 83), -0.034, (1, 2), 0.015, -0.019\n",
      "343, (62, 67), -0.034, (2, 3), -0.160, -0.194\n",
      "345, (4, 42), -0.034, (1, 3), -0.065, -0.099\n",
      "347, (69, 92), -0.034, (2, 3), 0.036, 0.002\n",
      "349, (79, 109), -0.034, (2, 3), 0.039, 0.005\n",
      "352, (31, 81), -0.033, (1, 2), 0.005, -0.029\n",
      "357, (41, 85), -0.033, (2, 1), 0.058, 0.025\n",
      "358, (88, 108), -0.033, (1, 3), -0.004, -0.037\n",
      "360, (64, 81), -0.033, (1, 2), -0.158, -0.191\n",
      "361, (89, 114), -0.033, (1, 3), 0.003, -0.030\n",
      "362, (30, 81), -0.033, (1, 2), 0.004, -0.030\n",
      "363, (23, 29), -0.033, (1, 2), -0.246, -0.280\n",
      "364, (61, 66), -0.033, (1, 3), 0.085, 0.051\n",
      "365, (31, 72), -0.033, (1, 2), 0.128, 0.095\n",
      "366, (46, 64), -0.033, (3, 1), -0.194, -0.227\n",
      "368, (39, 84), -0.033, (2, 1), -0.035, -0.068\n",
      "369, (17, 85), -0.033, (2, 1), 0.017, -0.016\n",
      "370, (19, 24), -0.033, (2, 1), -0.105, -0.138\n",
      "372, (44, 58), -0.033, (3, 1), -0.018, -0.051\n",
      "373, (85, 100), -0.033, (1, 3), -0.063, -0.096\n",
      "374, (17, 110), -0.033, (2, 3), -0.135, -0.168\n",
      "375, (55, 77), -0.033, (3, 2), -0.031, -0.064\n",
      "376, (37, 54), -0.033, (2, 3), 0.201, 0.168\n",
      "380, (66, 83), -0.033, (3, 2), -0.153, -0.186\n",
      "381, (80, 109), -0.033, (2, 3), -0.004, -0.036\n",
      "382, (29, 31), -0.033, (2, 1), 0.164, 0.132\n",
      "385, (2, 32), -0.033, (1, 2), -0.048, -0.080\n",
      "386, (4, 96), -0.033, (1, 3), -0.117, -0.149\n",
      "389, (85, 105), -0.032, (1, 3), -0.070, -0.103\n",
      "390, (67, 80), -0.032, (3, 2), -0.218, -0.251\n",
      "391, (17, 22), -0.032, (2, 1), -0.203, -0.235\n",
      "392, (3, 56), -0.032, (1, 2), -0.143, -0.176\n",
      "393, (16, 35), -0.032, (2, 3), -0.159, -0.191\n",
      "395, (35, 69), -0.032, (3, 2), 0.015, -0.017\n",
      "396, (2, 63), -0.032, (1, 2), -0.219, -0.251\n",
      "398, (84, 108), -0.032, (1, 3), -0.030, -0.062\n",
      "399, (45, 61), -0.032, (3, 1), -0.094, -0.126\n",
      "400, (17, 31), -0.032, (2, 1), -0.019, -0.052\n",
      "401, (1, 26), -0.032, (2, 1), -0.088, -0.120\n",
      "402, (77, 89), -0.032, (2, 1), -0.092, -0.124\n",
      "403, (16, 64), -0.032, (2, 1), -0.114, -0.146\n",
      "405, (84, 91), -0.032, (1, 3), -0.084, -0.116\n",
      "407, (22, 73), -0.032, (1, 2), -0.066, -0.098\n",
      "408, (20, 72), -0.032, (1, 2), 0.040, 0.008\n",
      "409, (24, 73), -0.032, (1, 2), -0.021, -0.053\n",
      "410, (14, 40), -0.032, (1, 2), 0.062, 0.030\n",
      "411, (33, 51), -0.032, (2, 3), -0.228, -0.260\n",
      "413, (17, 30), -0.032, (2, 1), -0.016, -0.048\n",
      "414, (57, 109), -0.032, (2, 3), -0.007, -0.039\n",
      "416, (54, 84), -0.032, (3, 1), 0.052, 0.020\n",
      "418, (37, 87), -0.032, (2, 1), 0.118, 0.086\n",
      "420, (17, 64), -0.032, (2, 1), -0.130, -0.161\n",
      "421, (38, 54), -0.032, (2, 3), 0.376, 0.344\n",
      "422, (3, 52), -0.032, (1, 3), -0.081, -0.112\n",
      "423, (89, 104), -0.032, (1, 3), 0.009, -0.023\n",
      "424, (1, 93), -0.032, (2, 3), -0.126, -0.157\n",
      "428, (35, 81), -0.031, (3, 2), -0.127, -0.159\n",
      "429, (0, 3), -0.031, (2, 1), -0.084, -0.115\n",
      "430, (36, 54), -0.031, (2, 3), 0.219, 0.187\n",
      "431, (28, 66), -0.031, (2, 3), -0.155, -0.187\n",
      "432, (64, 72), -0.031, (1, 2), -0.142, -0.173\n",
      "434, (33, 66), -0.031, (2, 3), 0.036, 0.004\n",
      "436, (3, 57), -0.031, (1, 2), -0.157, -0.188\n",
      "438, (8, 45), -0.031, (1, 3), -0.045, -0.076\n",
      "439, (16, 97), -0.031, (2, 3), -0.031, -0.062\n",
      "440, (3, 68), -0.031, (1, 2), -0.056, -0.087\n",
      "441, (25, 63), -0.031, (1, 2), -0.275, -0.306\n",
      "442, (25, 52), -0.031, (1, 3), -0.107, -0.138\n",
      "444, (36, 95), -0.031, (2, 3), 0.145, 0.114\n",
      "446, (31, 49), -0.031, (1, 3), -0.137, -0.167\n",
      "447, (67, 69), -0.031, (3, 2), 0.231, 0.200\n",
      "449, (76, 89), -0.030, (2, 1), -0.119, -0.149\n",
      "450, (39, 87), -0.030, (2, 1), 0.225, 0.194\n",
      "451, (84, 92), -0.030, (1, 3), -0.049, -0.079\n",
      "454, (12, 70), -0.030, (1, 2), 0.049, 0.018\n",
      "455, (11, 56), -0.030, (1, 2), -0.080, -0.110\n",
      "459, (12, 45), -0.030, (1, 3), -0.141, -0.171\n",
      "461, (88, 96), -0.030, (1, 3), -0.007, -0.037\n",
      "462, (21, 53), -0.030, (1, 3), -0.019, -0.050\n",
      "464, (17, 34), -0.030, (2, 3), -0.104, -0.134\n",
      "465, (69, 90), -0.030, (2, 3), 0.156, 0.126\n",
      "468, (88, 95), -0.030, (1, 3), -0.030, -0.060\n",
      "469, (17, 88), -0.030, (2, 1), -0.173, -0.203\n",
      "470, (34, 57), -0.030, (3, 2), -0.080, -0.110\n",
      "471, (33, 60), -0.030, (2, 1), 0.122, 0.092\n",
      "472, (57, 110), -0.030, (2, 3), -0.044, -0.074\n",
      "473, (13, 50), -0.030, (1, 3), -0.080, -0.110\n",
      "474, (89, 112), -0.030, (1, 3), -0.008, -0.038\n",
      "475, (8, 46), -0.030, (1, 3), -0.094, -0.124\n",
      "476, (29, 87), -0.030, (2, 1), -0.038, -0.068\n",
      "477, (46, 70), -0.030, (3, 2), -0.032, -0.062\n",
      "479, (31, 73), -0.030, (1, 2), 0.142, 0.113\n",
      "480, (0, 31), -0.030, (2, 1), -0.184, -0.214\n",
      "481, (31, 57), -0.030, (1, 2), -0.187, -0.217\n",
      "483, (35, 62), -0.030, (3, 2), -0.164, -0.193\n",
      "485, (2, 33), -0.030, (1, 2), 0.024, -0.006\n",
      "486, (49, 65), -0.030, (3, 1), -0.037, -0.067\n",
      "487, (25, 48), -0.030, (1, 3), -0.068, -0.097\n",
      "488, (78, 109), -0.029, (2, 3), 0.033, 0.003\n",
      "489, (26, 72), -0.029, (1, 2), -0.185, -0.215\n",
      "490, (84, 100), -0.029, (1, 3), -0.102, -0.131\n",
      "491, (27, 49), -0.029, (1, 3), -0.108, -0.137\n",
      "493, (38, 89), -0.029, (2, 1), 0.153, 0.124\n",
      "495, (8, 44), -0.029, (1, 3), -0.049, -0.078\n",
      "496, (23, 56), -0.029, (1, 2), -0.192, -0.221\n",
      "497, (62, 109), -0.029, (2, 3), -0.032, -0.062\n"
     ]
    },
    {
     "data": {
      "text/plain": [
       "(210, 78, 288, 80, 132, 212)"
      ]
     },
     "execution_count": 18,
     "metadata": {},
     "output_type": "execute_result"
    }
   ],
   "source": [
    "count = 0\n",
    "inter_edges = []\n",
    "intra_edges = []\n",
    "inter_edges_inclusion = []\n",
    "for i, e_idx in enumerate(reversed(sorted_edge_indices[-500:])):\n",
    "    e = td_asd_edges[e_idx].vertices\n",
    "    \n",
    "    if asd_ci[e[0]] != asd_ci[e[1]]:\n",
    "        count += 1\n",
    "        # if asd_mean[e] > 0:\n",
    "        print(f'{i}, {td_asd_edges[e_idx]}, {(asd_ci[e[0]], asd_ci[e[1]])}, {asd_mean[e]:.3f}, {td_mean[e]:.3f}')\n",
    "        inter_edges.append(asd_mean[e])\n",
    "    else:\n",
    "        intra_edges.append(asd_mean[e])\n",
    "        # print(f'{i}, {td_asd_edges[e_idx]}, {(asd_td_ci[e[0]], asd_td_ci[e[1]])}, {td_mean[e]:.3f}')\n",
    "    inter_edges_inclusion.append(count / (i + 1))\n",
    "\n",
    "inter_edges = np.array(inter_edges)\n",
    "intra_edges = np.array(intra_edges)\n",
    "\n",
    "np.sum(inter_edges < 0), np.sum(inter_edges > 0), len(inter_edges), np.sum(intra_edges < 0), np.sum(intra_edges > 0), len(intra_edges)"
   ]
  },
  {
   "cell_type": "code",
   "execution_count": null,
   "metadata": {},
   "outputs": [
    {
     "data": {
      "image/png": "[encoded data removed]",
      "text/plain": [
       "<Figure size 432x288 with 1 Axes>"
      ]
     },
     "metadata": {
      "needs_background": "light"
     },
     "output_type": "display_data"
    }
   ],
   "source": [
    "plt.hist(inter_edges, bins=50);"
   ]
  },
  {
   "cell_type": "code",
   "execution_count": null,
   "metadata": {},
   "outputs": [
    {
     "data": {
      "image/png": "[encoded data removed]",
      "text/plain": [
       "<Figure size 432x288 with 1 Axes>"
      ]
     },
     "metadata": {
      "needs_background": "light"
     },
     "output_type": "display_data"
    }
   ],
   "source": [
    "plt.hist(intra_edges, bins=50);"
   ]
  },
  {
   "cell_type": "code",
   "execution_count": null,
   "metadata": {},
   "outputs": [
    {
     "data": {
      "text/plain": [
       "[<matplotlib.lines.Line2D at 0x10fd7ffd0>]"
      ]
     },
     "execution_count": 21,
     "metadata": {},
     "output_type": "execute_result"
    },
    {
     "data": {
      "image/png": "[encoded data removed]",
      "text/plain": [
       "<Figure size 432x288 with 1 Axes>"
      ]
     },
     "metadata": {
      "needs_background": "light"
     },
     "output_type": "display_data"
    }
   ],
   "source": [
    "plt.plot(inter_edges_inclusion)"
   ]
  },
  {
   "cell_type": "code",
   "execution_count": null,
   "metadata": {},
   "outputs": [],
   "source": []
  }
 ],
 "metadata": {
  "kernelspec": {
   "display_name": "Python 3.9.10 ('dense-graph')",
   "language": "python",
   "name": "python3"
  },
  "language_info": {
   "codemirror_mode": {
    "name": "ipython",
    "version": 3
   },
   "file_extension": ".py",
   "mimetype": "text/x-python",
   "name": "python",
   "nbconvert_exporter": "python",
   "pygments_lexer": "ipython3",
   "version": "3.9.10"
  },
  "orig_nbformat": 4,
  "vscode": {
   "interpreter": {
    "hash": "811f3c137293eb818675d074a17586b7ffbed456859389dc1f2bedb7227e678f"
   }
  }
 },
 "nbformat": 4,
 "nbformat_minor": 2
}
