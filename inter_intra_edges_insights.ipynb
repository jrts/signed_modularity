{
 "cells": [
  {
   "cell_type": "code",
   "execution_count": 1,
   "metadata": {},
   "outputs": [],
   "source": [
    "import os\n",
    "import numpy as np\n",
    "from bct import modularity\n",
    "\n",
    "from clique import Clique\n",
    "from itertools import combinations\n",
    "import matplotlib.pylab as plt"
   ]
  },
  {
   "cell_type": "code",
   "execution_count": 2,
   "metadata": {},
   "outputs": [],
   "source": [
    "def load_group_files(base_url, group_path):\n",
    "    path = '{}/{}/'.format(base_url, group_path)\n",
    "    file_names = sorted(os.listdir(path))\n",
    "    files = ['{}{}'.format(path, elem) for elem in file_names]\n",
    "    return files\n",
    "\n",
    "def load_matrix_subjects(base_url, group_path):\n",
    "    group_files = load_group_files(base_url, group_path)\n",
    "    return _load_matrix_subject_with_files(group_files)\n",
    "\n",
    "def _load_matrix_subject_with_files(files):\n",
    "    subjects = []\n",
    "    for file in files:\n",
    "        mat = np.loadtxt(file, delimiter=' ')\n",
    "        np.fill_diagonal(mat, 0)\n",
    "        subjects.append(mat)\n",
    "    return np.array(subjects)"
   ]
  },
  {
   "cell_type": "code",
   "execution_count": 3,
   "metadata": {},
   "outputs": [],
   "source": [
    "def measure_edge_weight(aff, mat, edge_combo):\n",
    "    inter_weight = 0\n",
    "    intra_weight = 0\n",
    "\n",
    "    intra_count = 0\n",
    "    inter_count = 0\n",
    "\n",
    "    for e in edge_combo:\n",
    "        if aff[e[0]] == aff[e[1]]:\n",
    "            intra_weight += mat[e]\n",
    "            if mat[e] != 0:\n",
    "                intra_count += 1\n",
    "        else:\n",
    "            inter_weight += mat[e]\n",
    "            if mat[e] != 0:\n",
    "                inter_count += 1\n",
    "\n",
    "    inter_ratio = inter_weight / np.sum(mat) * 2\n",
    "    intra_ratio = intra_weight / np.sum(mat) * 2\n",
    "\n",
    "    print(f'# of inter-edges: {inter_count}; # of intra-edges: {intra_count}')\n",
    "    print(f'inter-edge ratio: {inter_ratio:.4f}; intra-edge ratio: {intra_ratio:.4f}')\n",
    "    print(f'total inter-edge weight: {inter_weight:.4f}; total intra-edge weight: {intra_weight:.4f}')\n",
    "    # return inter_ratio, intra_ratio"
   ]
  },
  {
   "cell_type": "code",
   "execution_count": 7,
   "metadata": {},
   "outputs": [],
   "source": [
    "data_type = 'correlation'\n",
    "datasets = ['adolescents', 'children', 'eyesclosed', 'male', 'female', 'complete_abide']\n",
    "\n",
    "n_nodes = 116\n",
    "edge_combo = list(combinations(range(n_nodes), 2))"
   ]
  },
  {
   "cell_type": "code",
   "execution_count": 8,
   "metadata": {},
   "outputs": [],
   "source": [
    "idx = 1"
   ]
  },
  {
   "cell_type": "code",
   "execution_count": 9,
   "metadata": {},
   "outputs": [],
   "source": [
    "dataset = datasets[idx]\n",
    "\n",
    "diff_mat = np.loadtxt(f\"../abide_datasets/{data_type}_diff_mat/{dataset}/td_asd_diff_mat_whole_dataset.txt\")\n",
    "\n",
    "td_subjects = load_matrix_subjects(f'../abide_datasets/{data_type}/{dataset}', 'td')\n",
    "asd_subjects = load_matrix_subjects(f'../abide_datasets/{data_type}/{dataset}', 'asd')\n",
    "\n",
    "td_mean = np.mean(td_subjects, axis=0)\n",
    "asd_mean = np.mean(asd_subjects, axis=0)\n",
    "\n",
    "td_positive_mean = td_mean * (td_mean > 0)\n",
    "td_negative_mean = td_mean * (td_mean < 0)\n",
    "asd_positive_mean = asd_mean * (asd_mean > 0)\n",
    "asd_negative_mean = asd_mean * (asd_mean < 0)\n",
    "\n",
    "td_asd_edges = Clique.create_cliques(edge_combo, td_mean - asd_mean)\n",
    "sorted_edge_indices = np.flip(np.argsort(td_asd_edges))"
   ]
  },
  {
   "cell_type": "code",
   "execution_count": 10,
   "metadata": {},
   "outputs": [
    {
     "data": {
      "image/png": "[encoded data removed]",
      "text/plain": [
       "<Figure size 432x288 with 1 Axes>"
      ]
     },
     "metadata": {
      "needs_background": "light"
     },
     "output_type": "display_data"
    }
   ],
   "source": [
    "plt.hist(list(map(lambda x: x.metric, Clique.create_cliques(edge_combo, td_mean))), bins=1000);"
   ]
  },
  {
   "cell_type": "code",
   "execution_count": 11,
   "metadata": {},
   "outputs": [
    {
     "data": {
      "image/png": "[encoded data removed]",
      "text/plain": [
       "<Figure size 432x288 with 1 Axes>"
      ]
     },
     "metadata": {
      "needs_background": "light"
     },
     "output_type": "display_data"
    }
   ],
   "source": [
    "plt.hist(list(map(lambda x: x.metric, Clique.create_cliques(edge_combo, asd_mean))), bins=1000);"
   ]
  },
  {
   "cell_type": "code",
   "execution_count": 12,
   "metadata": {},
   "outputs": [
    {
     "data": {
      "image/png": "[encoded data removed]",
      "text/plain": [
       "<Figure size 432x288 with 1 Axes>"
      ]
     },
     "metadata": {
      "needs_background": "light"
     },
     "output_type": "display_data"
    }
   ],
   "source": [
    "plt.hist(list(map(lambda x: x.metric, td_asd_edges)), bins=1000);"
   ]
  },
  {
   "cell_type": "code",
   "execution_count": 13,
   "metadata": {},
   "outputs": [],
   "source": [
    "td_degrees = np.sum(td_positive_mean, axis=0)\n",
    "asd_degrees = np.sum(asd_positive_mean, axis=0)"
   ]
  },
  {
   "cell_type": "code",
   "execution_count": 14,
   "metadata": {},
   "outputs": [
    {
     "data": {
      "image/png": "[encoded data removed]",
      "text/plain": [
       "<Figure size 432x288 with 1 Axes>"
      ]
     },
     "metadata": {
      "needs_background": "light"
     },
     "output_type": "display_data"
    }
   ],
   "source": [
    "plt.hist(td_degrees, bins=15, alpha=.5);\n",
    "plt.hist(asd_degrees, bins=15, alpha=.5);"
   ]
  },
  {
   "cell_type": "code",
   "execution_count": 15,
   "metadata": {},
   "outputs": [],
   "source": [
    "seed = 50"
   ]
  },
  {
   "cell_type": "code",
   "execution_count": 16,
   "metadata": {},
   "outputs": [
    {
     "name": "stdout",
     "output_type": "stream",
     "text": [
      "positive edges:\n",
      "# of inter-edges: 1465; # of intra-edges: 1327\n",
      "inter-edge ratio: 0.2927; intra-edge ratio: 0.7073\n",
      "total inter-edge weight: 94.5812; total intra-edge weight: 228.5588\n",
      "\n",
      "negative edges:\n",
      "# of inter-edges: 3496; # of intra-edges: 382\n",
      "inter-edge ratio: 0.9205; intra-edge ratio: 0.0795\n",
      "total inter-edge weight: -294.3552; total intra-edge weight: -25.4173\n"
     ]
    }
   ],
   "source": [
    "td_ci, td_q = modularity.modularity_louvain_und_sign(td_mean, qtype='sta', seed=3)\n",
    "\n",
    "print('positive edges:')\n",
    "measure_edge_weight(td_ci, td_positive_mean, edge_combo)\n",
    "\n",
    "print('\\nnegative edges:')\n",
    "measure_edge_weight(td_ci, td_negative_mean, edge_combo)"
   ]
  },
  {
   "cell_type": "code",
   "execution_count": 17,
   "metadata": {},
   "outputs": [
    {
     "name": "stdout",
     "output_type": "stream",
     "text": [
      "2, (53, 83), 0.127, (3, 1), 0.044, -0.083, td v0 degree: 3.625, td v1 degree: 4.937\n",
      "6, (26, 41), 0.117, (2, 1), 0.054, -0.063, td v0 degree: 5.251, td v1 degree: 6.586\n",
      "8, (19, 114), 0.115, (1, 4), 0.033, -0.082, td v0 degree: 3.569, td v1 degree: 3.866\n",
      "25, (4, 83), 0.099, (2, 1), 0.055, -0.044, td v0 degree: 5.498, td v1 degree: 4.937\n",
      "28, (52, 61), 0.096, (3, 2), 0.133, 0.036, td v0 degree: 3.979, td v1 degree: 4.983\n",
      "32, (61, 100), 0.096, (2, 4), 0.158, 0.062, td v0 degree: 4.983, td v1 degree: 4.894\n",
      "42, (28, 53), 0.093, (1, 3), 0.013, -0.080, td v0 degree: 9.074, td v1 degree: 3.625\n",
      "43, (18, 82), 0.093, (1, 2), 0.205, 0.113, td v0 degree: 3.729, td v1 degree: 5.245\n",
      "46, (29, 49), 0.092, (1, 3), 0.003, -0.089, td v0 degree: 9.285, td v1 degree: 4.801\n",
      "57, (85, 94), 0.089, (2, 3), 0.027, -0.062, td v0 degree: 3.941, td v1 degree: 4.459\n",
      "62, (19, 109), 0.088, (1, 3), 0.025, -0.063, td v0 degree: 3.569, td v1 degree: 5.121\n",
      "63, (10, 83), 0.088, (2, 1), 0.072, -0.017, td v0 degree: 4.361, td v1 degree: 4.937\n",
      "65, (26, 40), 0.088, (2, 1), 0.002, -0.085, td v0 degree: 5.251, td v1 degree: 7.160\n",
      "66, (25, 37), 0.087, (2, 1), 0.068, -0.020, td v0 degree: 6.745, td v1 degree: 8.123\n",
      "71, (29, 53), 0.086, (1, 3), 0.029, -0.057, td v0 degree: 9.285, td v1 degree: 3.625\n",
      "72, (25, 40), 0.086, (2, 1), 0.063, -0.023, td v0 degree: 6.745, td v1 degree: 7.160\n",
      "74, (67, 89), 0.086, (4, 2), 0.006, -0.079, td v0 degree: 5.076, td v1 degree: 4.624\n",
      "75, (8, 71), 0.085, (2, 1), 0.034, -0.051, td v0 degree: 4.740, td v1 degree: 4.926\n",
      "76, (25, 110), 0.085, (2, 3), 0.164, 0.079, td v0 degree: 6.745, td v1 degree: 6.217\n",
      "88, (0, 11), 0.083, (1, 2), 0.076, -0.006, td v0 degree: 4.673, td v1 degree: 5.045\n",
      "90, (23, 110), 0.082, (2, 3), 0.065, -0.018, td v0 degree: 6.064, td v1 degree: 6.217\n",
      "92, (30, 110), 0.082, (2, 3), 0.005, -0.077, td v0 degree: 6.106, td v1 degree: 6.217\n",
      "105, (69, 109), 0.080, (4, 3), 0.011, -0.070, td v0 degree: 4.121, td v1 degree: 5.121\n",
      "107, (11, 83), 0.080, (2, 1), 0.179, 0.099, td v0 degree: 5.045, td v1 degree: 4.937\n",
      "115, (51, 89), 0.080, (3, 2), 0.045, -0.035, td v0 degree: 4.766, td v1 degree: 4.624\n",
      "118, (19, 95), 0.079, (1, 3), 0.022, -0.058, td v0 degree: 3.569, td v1 degree: 4.929\n",
      "122, (21, 109), 0.079, (2, 3), 0.062, -0.017, td v0 degree: 5.356, td v1 degree: 5.121\n",
      "123, (24, 110), 0.079, (2, 3), 0.130, 0.052, td v0 degree: 5.799, td v1 degree: 6.217\n",
      "124, (62, 103), 0.079, (1, 4), 0.059, -0.019, td v0 degree: 5.584, td v1 degree: 5.965\n",
      "128, (27, 37), 0.078, (2, 1), 0.062, -0.017, td v0 degree: 6.317, td v1 degree: 8.123\n",
      "132, (68, 109), 0.078, (1, 3), 0.036, -0.043, td v0 degree: 4.071, td v1 degree: 5.121\n",
      "134, (1, 61), 0.078, (1, 2), 0.283, 0.205, td v0 degree: 4.641, td v1 degree: 4.983\n",
      "137, (18, 20), 0.078, (1, 2), 0.009, -0.069, td v0 degree: 3.729, td v1 degree: 5.494\n",
      "138, (52, 63), 0.078, (3, 1), 0.079, 0.001, td v0 degree: 3.979, td v1 degree: 6.351\n",
      "139, (18, 99), 0.078, (1, 3), 0.021, -0.057, td v0 degree: 3.729, td v1 degree: 7.572\n",
      "141, (83, 114), 0.077, (1, 4), 0.003, -0.074, td v0 degree: 4.937, td v1 degree: 3.866\n",
      "144, (53, 56), 0.077, (3, 1), 0.016, -0.060, td v0 degree: 3.625, td v1 degree: 5.460\n",
      "145, (6, 71), 0.077, (2, 1), 0.011, -0.066, td v0 degree: 4.881, td v1 degree: 4.926\n",
      "147, (19, 99), 0.077, (1, 3), 0.019, -0.057, td v0 degree: 3.569, td v1 degree: 7.572\n",
      "148, (68, 114), 0.077, (1, 4), 0.006, -0.071, td v0 degree: 4.071, td v1 degree: 3.866\n",
      "151, (27, 110), 0.076, (2, 3), 0.087, 0.011, td v0 degree: 6.317, td v1 degree: 6.217\n",
      "152, (39, 114), 0.076, (3, 4), 0.070, -0.006, td v0 degree: 5.848, td v1 degree: 3.866\n",
      "154, (68, 96), 0.076, (1, 3), 0.034, -0.042, td v0 degree: 4.071, td v1 degree: 7.164\n",
      "162, (53, 80), 0.075, (3, 1), 0.002, -0.073, td v0 degree: 3.625, td v1 degree: 8.070\n",
      "164, (24, 75), 0.075, (2, 1), 0.009, -0.066, td v0 degree: 5.799, td v1 degree: 6.848\n",
      "169, (19, 115), 0.074, (1, 4), 0.043, -0.032, td v0 degree: 3.569, td v1 degree: 3.881\n",
      "173, (67, 85), 0.074, (4, 2), 0.050, -0.024, td v0 degree: 5.076, td v1 degree: 3.941\n",
      "175, (1, 104), 0.073, (1, 4), 0.034, -0.039, td v0 degree: 4.641, td v1 degree: 5.386\n",
      "177, (29, 44), 0.073, (1, 3), 0.026, -0.047, td v0 degree: 9.285, td v1 degree: 5.077\n",
      "180, (5, 93), 0.073, (2, 4), 0.112, 0.039, td v0 degree: 5.736, td v1 degree: 6.560\n",
      "187, (68, 108), 0.072, (1, 3), 0.036, -0.036, td v0 degree: 4.071, td v1 degree: 3.974\n",
      "190, (62, 98), 0.072, (1, 3), 0.018, -0.054, td v0 degree: 5.584, td v1 degree: 7.253\n",
      "192, (25, 33), 0.071, (2, 1), 0.017, -0.054, td v0 degree: 6.745, td v1 degree: 4.584\n",
      "193, (19, 93), 0.071, (1, 4), 0.052, -0.020, td v0 degree: 3.569, td v1 degree: 6.560\n",
      "196, (68, 113), 0.071, (1, 4), 0.021, -0.050, td v0 degree: 4.071, td v1 degree: 4.522\n",
      "198, (20, 114), 0.071, (2, 4), 0.022, -0.049, td v0 degree: 5.494, td v1 degree: 3.866\n",
      "199, (54, 59), 0.071, (3, 4), 0.025, -0.046, td v0 degree: 5.506, td v1 degree: 5.091\n",
      "202, (80, 108), 0.071, (1, 3), 0.018, -0.053, td v0 degree: 8.070, td v1 degree: 3.974\n",
      "210, (23, 39), 0.070, (2, 3), 0.017, -0.053, td v0 degree: 6.064, td v1 degree: 5.848\n",
      "212, (44, 80), 0.070, (3, 1), 0.002, -0.068, td v0 degree: 5.077, td v1 degree: 8.070\n",
      "215, (31, 38), 0.070, (2, 1), 0.050, -0.020, td v0 degree: 6.522, td v1 degree: 6.587\n",
      "216, (18, 112), 0.070, (1, 3), 0.003, -0.067, td v0 degree: 3.729, td v1 degree: 4.837\n",
      "218, (71, 93), 0.070, (1, 4), 0.002, -0.067, td v0 degree: 4.926, td v1 degree: 6.560\n",
      "220, (18, 91), 0.070, (1, 4), 0.089, 0.019, td v0 degree: 3.729, td v1 degree: 6.165\n",
      "221, (87, 115), 0.069, (2, 4), 0.023, -0.046, td v0 degree: 4.430, td v1 degree: 3.881\n",
      "222, (19, 108), 0.069, (1, 3), 0.026, -0.043, td v0 degree: 3.569, td v1 degree: 3.974\n",
      "226, (52, 89), 0.069, (3, 2), 0.189, 0.120, td v0 degree: 3.979, td v1 degree: 4.624\n",
      "227, (5, 91), 0.069, (2, 4), 0.063, -0.006, td v0 degree: 5.736, td v1 degree: 6.165\n",
      "232, (7, 33), 0.069, (2, 1), 0.137, 0.069, td v0 degree: 4.978, td v1 degree: 4.584\n",
      "234, (70, 90), 0.069, (1, 4), 0.013, -0.055, td v0 degree: 4.716, td v1 degree: 5.783\n",
      "236, (53, 81), 0.069, (3, 1), 0.014, -0.055, td v0 degree: 3.625, td v1 degree: 8.445\n",
      "237, (5, 92), 0.068, (2, 4), 0.207, 0.139, td v0 degree: 5.736, td v1 degree: 6.061\n",
      "254, (78, 86), 0.068, (1, 2), 0.031, -0.036, td v0 degree: 7.467, td v1 degree: 4.263\n",
      "256, (58, 89), 0.067, (4, 2), 0.168, 0.101, td v0 degree: 5.213, td v1 degree: 4.624\n",
      "261, (31, 110), 0.067, (2, 3), 0.004, -0.064, td v0 degree: 6.522, td v1 degree: 6.217\n",
      "267, (66, 96), 0.067, (4, 3), 0.009, -0.057, td v0 degree: 4.038, td v1 degree: 7.164\n",
      "274, (53, 68), 0.066, (3, 1), 0.008, -0.058, td v0 degree: 3.625, td v1 degree: 4.071\n",
      "280, (24, 92), 0.066, (2, 4), 0.034, -0.031, td v0 degree: 5.799, td v1 degree: 6.061\n",
      "282, (59, 89), 0.066, (4, 2), 0.161, 0.095, td v0 degree: 5.091, td v1 degree: 4.624\n",
      "287, (82, 114), 0.066, (2, 4), 0.010, -0.055, td v0 degree: 5.245, td v1 degree: 3.866\n",
      "291, (59, 61), 0.065, (4, 2), 0.425, 0.360, td v0 degree: 5.091, td v1 degree: 4.983\n",
      "292, (52, 62), 0.065, (3, 1), 0.009, -0.056, td v0 degree: 3.979, td v1 degree: 5.584\n",
      "293, (20, 93), 0.065, (2, 4), 0.002, -0.063, td v0 degree: 5.494, td v1 degree: 6.560\n",
      "294, (109, 113), 0.065, (3, 4), 0.154, 0.089, td v0 degree: 5.121, td v1 degree: 4.522\n",
      "296, (71, 92), 0.065, (1, 4), 0.041, -0.024, td v0 degree: 4.926, td v1 degree: 6.061\n",
      "300, (14, 83), 0.064, (2, 1), 0.188, 0.124, td v0 degree: 5.534, td v1 degree: 4.937\n",
      "301, (33, 34), 0.064, (1, 2), 0.148, 0.084, td v0 degree: 4.584, td v1 degree: 4.127\n",
      "304, (78, 87), 0.064, (1, 2), 0.037, -0.028, td v0 degree: 7.467, td v1 degree: 4.430\n",
      "306, (21, 97), 0.064, (2, 3), 0.074, 0.010, td v0 degree: 5.356, td v1 degree: 6.164\n",
      "308, (83, 94), 0.064, (1, 3), 0.034, -0.030, td v0 degree: 4.937, td v1 degree: 4.459\n",
      "309, (46, 81), 0.064, (3, 1), 0.084, 0.020, td v0 degree: 7.089, td v1 degree: 8.445\n",
      "311, (27, 93), 0.064, (2, 4), 0.045, -0.019, td v0 degree: 6.317, td v1 degree: 6.560\n",
      "313, (58, 61), 0.063, (4, 2), 0.353, 0.289, td v0 degree: 5.213, td v1 degree: 4.983\n",
      "323, (39, 68), 0.063, (3, 1), 0.039, -0.024, td v0 degree: 5.848, td v1 degree: 4.071\n",
      "327, (33, 35), 0.062, (1, 2), 0.224, 0.161, td v0 degree: 4.584, td v1 degree: 4.000\n",
      "330, (0, 99), 0.062, (1, 3), 0.113, 0.051, td v0 degree: 4.673, td v1 degree: 7.572\n",
      "332, (15, 90), 0.062, (2, 4), 0.025, -0.038, td v0 degree: 5.235, td v1 degree: 5.783\n",
      "334, (20, 77), 0.062, (2, 1), 0.100, 0.038, td v0 degree: 5.494, td v1 degree: 5.923\n",
      "335, (39, 113), 0.062, (3, 4), 0.041, -0.021, td v0 degree: 5.848, td v1 degree: 4.522\n",
      "337, (22, 110), 0.062, (2, 3), 0.039, -0.023, td v0 degree: 5.990, td v1 degree: 6.217\n",
      "340, (10, 18), 0.062, (2, 1), 0.073, 0.011, td v0 degree: 4.361, td v1 degree: 3.729\n",
      "341, (9, 71), 0.062, (2, 1), 0.044, -0.018, td v0 degree: 5.139, td v1 degree: 4.926\n",
      "344, (97, 114), 0.062, (3, 4), 0.202, 0.141, td v0 degree: 6.164, td v1 degree: 3.866\n",
      "345, (28, 86), 0.062, (1, 2), 0.024, -0.037, td v0 degree: 9.074, td v1 degree: 4.263\n",
      "350, (37, 110), 0.061, (1, 3), 0.174, 0.112, td v0 degree: 8.123, td v1 degree: 6.217\n",
      "353, (6, 70), 0.061, (2, 1), 0.099, 0.037, td v0 degree: 4.881, td v1 degree: 4.716\n",
      "360, (24, 37), 0.061, (2, 1), 0.012, -0.049, td v0 degree: 5.799, td v1 degree: 8.123\n",
      "361, (98, 106), 0.061, (3, 4), 0.062, 0.001, td v0 degree: 7.253, td v1 degree: 3.337\n",
      "362, (0, 12), 0.061, (1, 2), 0.149, 0.088, td v0 degree: 4.673, td v1 degree: 4.643\n",
      "363, (97, 113), 0.061, (3, 4), 0.177, 0.116, td v0 degree: 6.164, td v1 degree: 4.522\n",
      "365, (25, 75), 0.061, (2, 1), 0.034, -0.027, td v0 degree: 6.745, td v1 degree: 6.848\n",
      "368, (29, 111), 0.060, (1, 3), 0.071, 0.011, td v0 degree: 9.285, td v1 degree: 6.156\n",
      "377, (61, 102), 0.060, (2, 4), 0.106, 0.046, td v0 degree: 4.983, td v1 degree: 5.350\n",
      "378, (81, 86), 0.060, (1, 2), 0.019, -0.041, td v0 degree: 8.445, td v1 degree: 4.263\n",
      "379, (1, 12), 0.060, (1, 2), 0.034, -0.025, td v0 degree: 4.641, td v1 degree: 4.643\n",
      "386, (68, 95), 0.060, (1, 3), 0.003, -0.056, td v0 degree: 4.071, td v1 degree: 4.929\n",
      "390, (8, 70), 0.059, (2, 1), 0.066, 0.007, td v0 degree: 4.740, td v1 degree: 4.716\n",
      "391, (40, 47), 0.059, (1, 3), 0.020, -0.039, td v0 degree: 7.160, td v1 degree: 6.300\n",
      "400, (37, 105), 0.059, (1, 4), 0.013, -0.046, td v0 degree: 8.123, td v1 degree: 4.529\n",
      "402, (19, 82), 0.059, (1, 2), 0.128, 0.069, td v0 degree: 3.569, td v1 degree: 5.245\n",
      "404, (62, 99), 0.059, (1, 3), 0.010, -0.049, td v0 degree: 5.584, td v1 degree: 7.572\n",
      "408, (30, 78), 0.059, (2, 1), 0.084, 0.025, td v0 degree: 6.106, td v1 degree: 7.467\n",
      "410, (35, 93), 0.058, (2, 4), 0.070, 0.011, td v0 degree: 4.000, td v1 degree: 6.560\n",
      "415, (40, 43), 0.058, (1, 3), 0.030, -0.028, td v0 degree: 7.160, td v1 degree: 5.914\n",
      "418, (61, 101), 0.058, (2, 4), 0.068, 0.009, td v0 degree: 4.983, td v1 degree: 5.140\n",
      "420, (18, 26), 0.058, (1, 2), 0.035, -0.024, td v0 degree: 3.729, td v1 degree: 5.251\n",
      "424, (68, 111), 0.058, (1, 3), 0.035, -0.023, td v0 degree: 4.071, td v1 degree: 6.156\n",
      "425, (106, 108), 0.058, (4, 3), 0.080, 0.022, td v0 degree: 3.337, td v1 degree: 3.974\n",
      "427, (68, 98), 0.058, (1, 3), 0.013, -0.045, td v0 degree: 4.071, td v1 degree: 7.253\n",
      "432, (8, 90), 0.058, (2, 4), 0.101, 0.043, td v0 degree: 4.740, td v1 degree: 5.783\n",
      "439, (70, 91), 0.057, (1, 4), 0.042, -0.016, td v0 degree: 4.716, td v1 degree: 6.165\n",
      "440, (74, 108), 0.057, (1, 3), 0.005, -0.052, td v0 degree: 7.606, td v1 degree: 3.974\n",
      "443, (21, 41), 0.057, (2, 1), 0.191, 0.134, td v0 degree: 5.356, td v1 degree: 6.586\n",
      "447, (88, 107), 0.057, (2, 4), 0.041, -0.016, td v0 degree: 5.453, td v1 degree: 3.154\n",
      "451, (54, 68), 0.057, (3, 1), 0.009, -0.048, td v0 degree: 5.506, td v1 degree: 4.071\n",
      "452, (72, 108), 0.057, (1, 3), 0.030, -0.027, td v0 degree: 9.595, td v1 degree: 3.974\n",
      "455, (26, 90), 0.057, (2, 4), 0.026, -0.031, td v0 degree: 5.251, td v1 degree: 5.783\n",
      "457, (53, 57), 0.057, (3, 1), 0.000, -0.056, td v0 degree: 3.625, td v1 degree: 5.219\n",
      "462, (109, 115), 0.056, (3, 4), 0.175, 0.119, td v0 degree: 5.121, td v1 degree: 3.881\n",
      "476, (53, 82), 0.056, (3, 2), 0.031, -0.025, td v0 degree: 3.625, td v1 degree: 5.245\n",
      "477, (29, 94), 0.056, (1, 3), 0.001, -0.055, td v0 degree: 9.285, td v1 degree: 4.459\n",
      "480, (59, 63), 0.056, (4, 1), 0.183, 0.127, td v0 degree: 5.091, td v1 degree: 6.351\n",
      "481, (7, 71), 0.056, (2, 1), 0.078, 0.022, td v0 degree: 4.978, td v1 degree: 4.926\n",
      "484, (31, 78), 0.056, (2, 1), 0.092, 0.036, td v0 degree: 6.522, td v1 degree: 7.467\n",
      "487, (4, 100), 0.055, (2, 4), 0.051, -0.004, td v0 degree: 5.498, td v1 degree: 4.894\n",
      "488, (52, 60), 0.055, (3, 2), 0.062, 0.006, td v0 degree: 3.979, td v1 degree: 5.240\n",
      "490, (38, 110), 0.055, (1, 3), 0.139, 0.084, td v0 degree: 6.587, td v1 degree: 6.217\n",
      "492, (35, 100), 0.055, (2, 4), 0.020, -0.036, td v0 degree: 4.000, td v1 degree: 4.894\n",
      "496, (54, 89), 0.055, (3, 2), 0.321, 0.267, td v0 degree: 5.506, td v1 degree: 4.624\n",
      "499, (68, 94), 0.055, (1, 3), 0.056, 0.001, td v0 degree: 4.071, td v1 degree: 4.459\n"
     ]
    },
    {
     "data": {
      "text/plain": [
       "{(1, 2): 3.2736855196746495,\n",
       " (1, 3): 1.3698846123763044,\n",
       " (1, 4): 0.6337303999584563,\n",
       " (2, 3): 1.4560078472695577,\n",
       " (2, 4): 2.346143766723629,\n",
       " (3, 4): 1.005716151904593}"
      ]
     },
     "execution_count": 17,
     "metadata": {},
     "output_type": "execute_result"
    }
   ],
   "source": [
    "count = 0\n",
    "td_inter_edges = []\n",
    "td_intra_edges = []\n",
    "td_inter_edges_inclusion = []\n",
    "td_freq_dict = {}\n",
    "for i, e_idx in enumerate(sorted_edge_indices[:500]):\n",
    "    e = td_asd_edges[e_idx].vertices\n",
    "\n",
    "    path = (td_ci[e[0]], td_ci[e[1]])\n",
    "    if path[0] > path[1]:\n",
    "        path = (path[1], path[0])\n",
    "    \n",
    "    if td_ci[e[0]] != td_ci[e[1]]:\n",
    "        if td_freq_dict.get(path) is None:\n",
    "            td_freq_dict[path] = 0\n",
    "        \n",
    "        count += 1\n",
    "        if td_mean[e] > 0:\n",
    "            td_freq_dict[path] += td_mean[e]\n",
    "            print(f'{i}, {td_asd_edges[e_idx]}, {(td_ci[e[0]], td_ci[e[1]])}, {td_mean[e]:.3f}, {asd_mean[e]:.3f}, td v0 degree: {np.sum(td_positive_mean[e[0], :]):.3f}, td v1 degree: {np.sum(td_positive_mean[e[1], :]):.3f}')\n",
    "        td_inter_edges.append(td_mean[e])\n",
    "    else:\n",
    "        td_intra_edges.append(td_mean[e])\n",
    "        # print(f'{i}, {td_asd_edges[e_idx]}, {(asd_td_ci[e[0]], asd_td_ci[e[1]])}, {td_mean[e]:.3f}')\n",
    "    td_inter_edges_inclusion.append(count / (i + 1))\n",
    "\n",
    "td_inter_edges = np.array(td_inter_edges)\n",
    "td_intra_edges = np.array(td_intra_edges)\n",
    "\n",
    "td_freq_dict"
   ]
  },
  {
   "cell_type": "code",
   "execution_count": 18,
   "metadata": {},
   "outputs": [
    {
     "data": {
      "text/plain": [
       "(216, 150, 366, 14, 120, 134)"
      ]
     },
     "execution_count": 18,
     "metadata": {},
     "output_type": "execute_result"
    }
   ],
   "source": [
    "np.sum(td_inter_edges < 0), np.sum(td_inter_edges > 0), len(td_inter_edges), np.sum(td_intra_edges < 0), np.sum(td_intra_edges > 0), len(td_intra_edges)"
   ]
  },
  {
   "cell_type": "code",
   "execution_count": 19,
   "metadata": {},
   "outputs": [
    {
     "data": {
      "text/plain": [
       "(-16.414335224541453,\n",
       " 10.085168297907192,\n",
       " -0.45474784202781154,\n",
       " 18.961794106718052)"
      ]
     },
     "execution_count": 19,
     "metadata": {},
     "output_type": "execute_result"
    }
   ],
   "source": [
    "np.sum(td_inter_edges[td_inter_edges < 0]), np.sum(td_inter_edges[td_inter_edges > 0]), np.sum(td_intra_edges[td_intra_edges < 0]), np.sum(td_intra_edges[td_intra_edges > 0])"
   ]
  },
  {
   "cell_type": "code",
   "execution_count": 20,
   "metadata": {},
   "outputs": [
    {
     "name": "stdout",
     "output_type": "stream",
     "text": [
      "4, (82, 106), -0.118, (2, 4), -0.068, 0.050, asd v0 degree: 4.894, asd v1 degree: 3.023\n",
      "10, (10, 16), -0.108, (2, 1), 0.180, 0.288, asd v0 degree: 4.344, asd v1 degree: 7.617\n",
      "13, (53, 114), -0.105, (3, 4), -0.050, 0.055, asd v0 degree: 4.142, asd v1 degree: 3.836\n",
      "14, (17, 85), -0.104, (1, 2), -0.070, 0.034, asd v0 degree: 8.300, asd v1 degree: 3.921\n",
      "17, (38, 95), -0.100, (1, 3), 0.094, 0.195, asd v0 degree: 7.313, asd v1 degree: 5.643\n",
      "18, (53, 93), -0.099, (3, 4), -0.043, 0.057, asd v0 degree: 4.142, asd v1 degree: 5.980\n",
      "19, (8, 49), -0.097, (2, 3), -0.063, 0.034, asd v0 degree: 4.697, asd v1 degree: 5.536\n",
      "20, (3, 69), -0.097, (2, 4), -0.062, 0.034, asd v0 degree: 5.351, asd v1 degree: 3.992\n",
      "21, (34, 51), -0.096, (2, 3), -0.083, 0.013, asd v0 degree: 3.740, asd v1 degree: 5.297\n",
      "23, (51, 93), -0.096, (3, 4), -0.084, 0.012, asd v0 degree: 5.297, asd v1 degree: 5.980\n",
      "24, (50, 114), -0.096, (3, 4), -0.070, 0.026, asd v0 degree: 4.775, asd v1 degree: 3.836\n",
      "26, (64, 83), -0.095, (2, 1), -0.090, 0.005, asd v0 degree: 4.035, asd v1 degree: 5.463\n",
      "28, (51, 66), -0.095, (3, 4), 0.008, 0.103, asd v0 degree: 5.297, asd v1 degree: 4.462\n",
      "29, (30, 70), -0.094, (2, 1), 0.188, 0.283, asd v0 degree: 6.248, asd v1 degree: 5.413\n",
      "34, (36, 95), -0.091, (1, 3), 0.092, 0.183, asd v0 degree: 9.444, asd v1 degree: 5.643\n",
      "36, (83, 89), -0.091, (1, 2), -0.019, 0.072, asd v0 degree: 5.463, asd v1 degree: 4.462\n",
      "37, (34, 48), -0.091, (2, 3), -0.058, 0.033, asd v0 degree: 3.740, asd v1 degree: 5.552\n",
      "38, (9, 49), -0.090, (2, 3), -0.048, 0.042, asd v0 degree: 4.521, asd v1 degree: 5.536\n",
      "40, (11, 79), -0.090, (2, 1), 0.026, 0.116, asd v0 degree: 4.751, asd v1 degree: 7.791\n",
      "41, (11, 17), -0.090, (2, 1), 0.170, 0.260, asd v0 degree: 4.751, asd v1 degree: 8.300\n",
      "42, (52, 104), -0.090, (3, 4), -0.066, 0.024, asd v0 degree: 3.923, asd v1 degree: 5.167\n",
      "47, (2, 48), -0.089, (2, 3), -0.021, 0.068, asd v0 degree: 5.528, asd v1 degree: 5.552\n",
      "48, (53, 104), -0.088, (3, 4), -0.085, 0.003, asd v0 degree: 4.142, asd v1 degree: 5.167\n",
      "50, (50, 64), -0.088, (3, 2), 0.049, 0.137, asd v0 degree: 4.775, asd v1 degree: 4.035\n",
      "52, (45, 67), -0.088, (3, 4), 0.248, 0.337, asd v0 degree: 5.364, asd v1 degree: 5.851\n",
      "54, (37, 55), -0.088, (1, 3), 0.227, 0.315, asd v0 degree: 9.364, asd v1 degree: 7.898\n",
      "56, (50, 104), -0.087, (3, 4), -0.066, 0.021, asd v0 degree: 4.775, asd v1 degree: 5.167\n",
      "58, (1, 88), -0.087, (1, 2), -0.075, 0.012, asd v0 degree: 4.695, asd v1 degree: 4.707\n",
      "65, (60, 83), -0.086, (2, 1), -0.080, 0.006, asd v0 degree: 4.502, asd v1 degree: 5.463\n",
      "66, (48, 66), -0.085, (3, 4), 0.114, 0.200, asd v0 degree: 5.552, asd v1 degree: 4.462\n",
      "67, (20, 72), -0.085, (2, 1), 0.058, 0.143, asd v0 degree: 5.960, asd v1 degree: 10.177\n",
      "72, (2, 50), -0.084, (2, 3), 0.027, 0.111, asd v0 degree: 5.528, asd v1 degree: 4.775\n",
      "74, (64, 108), -0.084, (2, 3), -0.067, 0.017, asd v0 degree: 4.035, asd v1 degree: 4.165\n",
      "78, (20, 74), -0.083, (2, 1), 0.058, 0.141, asd v0 degree: 5.960, asd v1 degree: 9.175\n",
      "79, (51, 67), -0.083, (3, 4), 0.001, 0.084, asd v0 degree: 5.297, asd v1 degree: 5.851\n",
      "81, (39, 76), -0.082, (3, 1), -0.008, 0.074, asd v0 degree: 6.085, asd v1 degree: 9.245\n",
      "85, (45, 66), -0.081, (3, 4), 0.037, 0.118, asd v0 degree: 5.364, asd v1 degree: 4.462\n",
      "86, (3, 52), -0.081, (2, 3), -0.071, 0.011, asd v0 degree: 5.351, asd v1 degree: 3.923\n",
      "94, (13, 73), -0.080, (2, 1), 0.069, 0.149, asd v0 degree: 4.948, asd v1 degree: 9.125\n",
      "100, (21, 74), -0.079, (2, 1), -0.003, 0.076, asd v0 degree: 5.317, asd v1 degree: 9.175\n",
      "103, (1, 86), -0.079, (1, 2), -0.051, 0.028, asd v0 degree: 4.695, asd v1 degree: 3.651\n",
      "110, (93, 98), -0.078, (4, 3), -0.017, 0.061, asd v0 degree: 5.980, asd v1 degree: 7.387\n",
      "114, (8, 50), -0.078, (2, 3), -0.033, 0.045, asd v0 degree: 4.697, asd v1 degree: 4.775\n",
      "115, (41, 95), -0.078, (1, 3), 0.054, 0.132, asd v0 degree: 7.757, asd v1 degree: 5.643\n",
      "121, (51, 104), -0.077, (3, 4), -0.013, 0.064, asd v0 degree: 5.297, asd v1 degree: 5.167\n",
      "122, (8, 51), -0.077, (2, 3), -0.033, 0.044, asd v0 degree: 4.697, asd v1 degree: 5.297\n",
      "123, (10, 80), -0.076, (2, 1), 0.018, 0.094, asd v0 degree: 4.344, asd v1 degree: 8.176\n",
      "126, (35, 51), -0.076, (2, 3), -0.056, 0.020, asd v0 degree: 3.637, asd v1 degree: 5.297\n",
      "130, (76, 96), -0.076, (1, 3), 0.048, 0.124, asd v0 degree: 9.245, asd v1 degree: 7.732\n",
      "132, (96, 102), -0.076, (3, 4), -0.009, 0.067, asd v0 degree: 7.732, asd v1 degree: 4.723\n",
      "139, (31, 71), -0.075, (2, 1), 0.290, 0.364, asd v0 degree: 6.045, asd v1 degree: 5.618\n",
      "140, (3, 68), -0.074, (2, 1), -0.049, 0.025, asd v0 degree: 5.351, asd v1 degree: 3.842\n",
      "142, (74, 85), -0.074, (1, 2), 0.021, 0.095, asd v0 degree: 9.175, asd v1 degree: 3.921\n",
      "146, (8, 67), -0.074, (2, 4), 0.005, 0.079, asd v0 degree: 4.697, asd v1 degree: 5.851\n",
      "149, (37, 95), -0.074, (1, 3), 0.157, 0.231, asd v0 degree: 9.364, asd v1 degree: 5.643\n",
      "150, (11, 81), -0.074, (2, 1), -0.002, 0.072, asd v0 degree: 4.751, asd v1 degree: 8.844\n",
      "152, (55, 76), -0.074, (3, 1), 0.010, 0.084, asd v0 degree: 7.898, asd v1 degree: 9.245\n",
      "156, (39, 83), -0.073, (3, 1), 0.055, 0.128, asd v0 degree: 6.085, asd v1 degree: 5.463\n",
      "158, (9, 44), -0.073, (2, 3), -0.066, 0.007, asd v0 degree: 4.521, asd v1 degree: 5.300\n",
      "159, (54, 84), -0.073, (3, 2), 0.012, 0.085, asd v0 degree: 6.095, asd v1 degree: 4.612\n",
      "160, (49, 66), -0.073, (3, 4), 0.001, 0.074, asd v0 degree: 5.536, asd v1 degree: 4.462\n",
      "161, (67, 108), -0.072, (4, 3), -0.017, 0.056, asd v0 degree: 5.851, asd v1 degree: 4.165\n",
      "163, (34, 45), -0.072, (2, 3), 0.108, 0.181, asd v0 degree: 3.740, asd v1 degree: 5.364\n",
      "164, (77, 85), -0.072, (1, 2), -0.023, 0.049, asd v0 degree: 7.066, asd v1 degree: 3.921\n",
      "165, (52, 106), -0.072, (3, 4), -0.064, 0.008, asd v0 degree: 3.923, asd v1 degree: 3.023\n",
      "166, (26, 71), -0.072, (2, 1), -0.027, 0.044, asd v0 degree: 5.565, asd v1 degree: 5.618\n",
      "167, (4, 68), -0.072, (2, 1), -0.069, 0.002, asd v0 degree: 5.262, asd v1 degree: 3.842\n",
      "170, (25, 83), -0.071, (2, 1), -0.058, 0.013, asd v0 degree: 5.951, asd v1 degree: 5.463\n",
      "175, (10, 40), -0.071, (2, 1), -0.034, 0.037, asd v0 degree: 4.344, asd v1 degree: 8.023\n",
      "177, (51, 105), -0.071, (3, 4), -0.030, 0.041, asd v0 degree: 5.297, asd v1 degree: 4.686\n",
      "179, (6, 50), -0.071, (2, 3), -0.064, 0.007, asd v0 degree: 4.779, asd v1 degree: 4.775\n",
      "184, (80, 84), -0.071, (1, 2), 0.197, 0.268, asd v0 degree: 8.176, asd v1 degree: 4.612\n",
      "185, (15, 59), -0.071, (2, 4), -0.060, 0.011, asd v0 degree: 4.911, asd v1 degree: 5.135\n",
      "189, (41, 85), -0.070, (1, 2), 0.030, 0.101, asd v0 degree: 7.757, asd v1 degree: 3.921\n",
      "190, (39, 77), -0.070, (3, 1), 0.057, 0.128, asd v0 degree: 6.085, asd v1 degree: 7.066\n",
      "195, (9, 59), -0.070, (2, 4), 0.001, 0.071, asd v0 degree: 4.521, asd v1 degree: 5.135\n",
      "196, (20, 70), -0.070, (2, 1), 0.227, 0.297, asd v0 degree: 5.960, asd v1 degree: 5.413\n",
      "197, (37, 89), -0.070, (1, 2), 0.029, 0.098, asd v0 degree: 9.364, asd v1 degree: 4.462\n",
      "199, (19, 66), -0.070, (1, 4), -0.025, 0.045, asd v0 degree: 3.721, asd v1 degree: 4.462\n",
      "203, (21, 70), -0.069, (2, 1), 0.119, 0.188, asd v0 degree: 5.317, asd v1 degree: 5.413\n",
      "204, (37, 99), -0.069, (1, 3), 0.097, 0.166, asd v0 degree: 9.364, asd v1 degree: 7.639\n",
      "206, (60, 80), -0.069, (2, 1), -0.067, 0.002, asd v0 degree: 4.502, asd v1 degree: 8.176\n",
      "208, (23, 69), -0.069, (2, 4), -0.035, 0.034, asd v0 degree: 6.052, asd v1 degree: 3.992\n",
      "209, (34, 108), -0.069, (2, 3), -0.010, 0.059, asd v0 degree: 3.740, asd v1 degree: 4.165\n",
      "214, (40, 112), -0.068, (1, 3), -0.046, 0.023, asd v0 degree: 8.023, asd v1 degree: 5.128\n",
      "215, (54, 76), -0.068, (3, 1), 0.012, 0.080, asd v0 degree: 6.095, asd v1 degree: 9.245\n",
      "220, (52, 93), -0.068, (3, 4), -0.033, 0.035, asd v0 degree: 3.923, asd v1 degree: 5.980\n",
      "222, (50, 93), -0.068, (3, 4), -0.035, 0.032, asd v0 degree: 4.775, asd v1 degree: 5.980\n",
      "226, (13, 81), -0.067, (2, 1), -0.019, 0.049, asd v0 degree: 4.948, asd v1 degree: 8.844\n",
      "231, (1, 3), -0.067, (1, 2), -0.023, 0.044, asd v0 degree: 4.695, asd v1 degree: 5.351\n",
      "238, (6, 67), -0.067, (2, 4), 0.013, 0.079, asd v0 degree: 4.779, asd v1 degree: 5.851\n",
      "239, (12, 40), -0.067, (2, 1), -0.045, 0.021, asd v0 degree: 4.502, asd v1 degree: 8.023\n",
      "241, (16, 54), -0.067, (1, 3), -0.050, 0.016, asd v0 degree: 7.617, asd v1 degree: 6.095\n",
      "244, (38, 109), -0.067, (1, 3), 0.076, 0.143, asd v0 degree: 7.313, asd v1 degree: 5.223\n",
      "246, (94, 105), -0.066, (3, 4), 0.099, 0.166, asd v0 degree: 4.540, asd v1 degree: 4.686\n",
      "248, (55, 77), -0.066, (3, 1), -0.038, 0.028, asd v0 degree: 7.898, asd v1 degree: 7.066\n",
      "251, (1, 89), -0.066, (1, 2), 0.022, 0.088, asd v0 degree: 4.695, asd v1 degree: 4.462\n",
      "253, (19, 67), -0.066, (1, 4), -0.040, 0.026, asd v0 degree: 3.721, asd v1 degree: 5.851\n",
      "255, (30, 73), -0.066, (2, 1), 0.156, 0.222, asd v0 degree: 6.248, asd v1 degree: 9.125\n",
      "258, (19, 59), -0.066, (1, 4), 0.061, 0.127, asd v0 degree: 3.721, asd v1 degree: 5.135\n",
      "259, (83, 85), -0.066, (1, 2), 0.135, 0.201, asd v0 degree: 5.463, asd v1 degree: 3.921\n",
      "260, (23, 90), -0.066, (2, 4), -0.017, 0.048, asd v0 degree: 6.052, asd v1 degree: 5.719\n",
      "263, (96, 115), -0.065, (3, 4), 0.039, 0.105, asd v0 degree: 7.732, asd v1 degree: 3.722\n",
      "270, (4, 45), -0.065, (2, 3), -0.061, 0.004, asd v0 degree: 5.262, asd v1 degree: 5.364\n",
      "276, (16, 60), -0.065, (1, 2), 0.027, 0.092, asd v0 degree: 7.617, asd v1 degree: 4.502\n",
      "277, (44, 67), -0.065, (3, 4), 0.098, 0.163, asd v0 degree: 5.300, asd v1 degree: 5.851\n",
      "279, (49, 91), -0.065, (3, 4), -0.011, 0.054, asd v0 degree: 5.536, asd v1 degree: 5.951\n",
      "283, (21, 72), -0.064, (2, 1), -0.013, 0.051, asd v0 degree: 5.317, asd v1 degree: 10.177\n",
      "284, (55, 82), -0.064, (3, 2), -0.063, 0.001, asd v0 degree: 7.898, asd v1 degree: 4.894\n",
      "285, (107, 109), -0.064, (4, 3), -0.023, 0.041, asd v0 degree: 3.084, asd v1 degree: 5.223\n",
      "288, (48, 67), -0.064, (3, 4), 0.078, 0.142, asd v0 degree: 5.552, asd v1 degree: 5.851\n",
      "296, (6, 90), -0.063, (2, 4), 0.020, 0.084, asd v0 degree: 4.779, asd v1 degree: 5.719\n",
      "305, (102, 110), -0.062, (4, 3), -0.024, 0.038, asd v0 degree: 4.723, asd v1 degree: 5.549\n",
      "306, (33, 60), -0.062, (1, 2), 0.084, 0.146, asd v0 degree: 4.919, asd v1 degree: 4.502\n",
      "309, (39, 87), -0.062, (3, 2), 0.187, 0.249, asd v0 degree: 6.085, asd v1 degree: 4.400\n",
      "320, (50, 67), -0.061, (3, 4), 0.105, 0.166, asd v0 degree: 4.775, asd v1 degree: 5.851\n",
      "321, (49, 58), -0.061, (3, 4), -0.002, 0.060, asd v0 degree: 5.536, asd v1 degree: 5.221\n",
      "324, (47, 67), -0.061, (3, 4), -0.019, 0.042, asd v0 degree: 6.390, asd v1 degree: 5.851\n",
      "325, (58, 68), -0.061, (4, 1), 0.090, 0.151, asd v0 degree: 5.221, asd v1 degree: 3.842\n",
      "331, (51, 114), -0.061, (3, 4), -0.044, 0.017, asd v0 degree: 5.297, asd v1 degree: 3.836\n",
      "339, (52, 92), -0.061, (3, 4), -0.004, 0.056, asd v0 degree: 3.923, asd v1 degree: 5.362\n",
      "342, (10, 52), -0.060, (2, 3), -0.038, 0.022, asd v0 degree: 4.344, asd v1 degree: 3.923\n",
      "351, (51, 58), -0.060, (3, 4), 0.056, 0.116, asd v0 degree: 5.297, asd v1 degree: 5.221\n",
      "354, (10, 36), -0.060, (2, 1), -0.058, 0.002, asd v0 degree: 4.344, asd v1 degree: 9.444\n",
      "356, (34, 50), -0.060, (2, 3), 0.041, 0.101, asd v0 degree: 3.740, asd v1 degree: 4.775\n",
      "358, (10, 62), -0.060, (2, 1), 0.066, 0.126, asd v0 degree: 4.344, asd v1 degree: 6.063\n",
      "362, (12, 80), -0.059, (2, 1), -0.004, 0.056, asd v0 degree: 4.502, asd v1 degree: 8.176\n",
      "366, (40, 95), -0.059, (1, 3), 0.080, 0.139, asd v0 degree: 8.023, asd v1 degree: 5.643\n",
      "367, (1, 85), -0.059, (1, 2), -0.051, 0.008, asd v0 degree: 4.695, asd v1 degree: 3.921\n",
      "368, (49, 67), -0.059, (3, 4), 0.020, 0.079, asd v0 degree: 5.536, asd v1 degree: 5.851\n",
      "369, (39, 82), -0.059, (3, 2), 0.029, 0.088, asd v0 degree: 6.085, asd v1 degree: 4.894\n",
      "374, (46, 114), -0.059, (3, 4), -0.006, 0.053, asd v0 degree: 7.315, asd v1 degree: 3.836\n",
      "378, (81, 95), -0.058, (1, 3), 0.028, 0.087, asd v0 degree: 8.844, asd v1 degree: 5.643\n",
      "381, (89, 99), -0.058, (2, 3), 0.019, 0.078, asd v0 degree: 4.462, asd v1 degree: 7.639\n",
      "385, (76, 85), -0.058, (1, 2), -0.023, 0.035, asd v0 degree: 9.245, asd v1 degree: 3.921\n",
      "391, (12, 70), -0.058, (2, 1), 0.054, 0.112, asd v0 degree: 4.502, asd v1 degree: 5.413\n",
      "392, (31, 70), -0.057, (2, 1), 0.158, 0.215, asd v0 degree: 6.045, asd v1 degree: 5.413\n",
      "397, (35, 47), -0.057, (2, 3), 0.038, 0.096, asd v0 degree: 3.637, asd v1 degree: 6.390\n",
      "398, (53, 84), -0.057, (3, 2), -0.032, 0.025, asd v0 degree: 4.142, asd v1 degree: 4.612\n",
      "403, (48, 58), -0.057, (3, 4), 0.176, 0.233, asd v0 degree: 5.552, asd v1 degree: 5.221\n",
      "411, (2, 69), -0.056, (2, 4), -0.024, 0.033, asd v0 degree: 5.528, asd v1 degree: 3.992\n",
      "412, (26, 96), -0.056, (2, 3), -0.027, 0.029, asd v0 degree: 5.565, asd v1 degree: 7.732\n",
      "415, (30, 71), -0.056, (2, 1), 0.253, 0.309, asd v0 degree: 6.248, asd v1 degree: 5.618\n",
      "416, (59, 65), -0.056, (4, 2), 0.004, 0.061, asd v0 degree: 5.135, asd v1 degree: 4.063\n",
      "419, (5, 48), -0.056, (2, 3), -0.033, 0.023, asd v0 degree: 5.479, asd v1 degree: 5.552\n",
      "423, (11, 37), -0.056, (2, 1), -0.053, 0.003, asd v0 degree: 4.751, asd v1 degree: 9.364\n",
      "426, (35, 69), -0.056, (2, 4), 0.017, 0.073, asd v0 degree: 3.637, asd v1 degree: 3.992\n",
      "428, (13, 79), -0.056, (2, 1), -0.005, 0.051, asd v0 degree: 4.948, asd v1 degree: 7.791\n",
      "429, (8, 59), -0.056, (2, 4), 0.008, 0.064, asd v0 degree: 4.697, asd v1 degree: 5.135\n",
      "438, (82, 107), -0.055, (2, 4), -0.048, 0.008, asd v0 degree: 4.894, asd v1 degree: 3.084\n",
      "446, (50, 65), -0.055, (3, 2), 0.052, 0.107, asd v0 degree: 4.775, asd v1 degree: 4.063\n",
      "447, (34, 46), -0.055, (2, 3), -0.043, 0.012, asd v0 degree: 3.740, asd v1 degree: 7.315\n",
      "448, (63, 95), -0.055, (1, 3), -0.026, 0.029, asd v0 degree: 6.672, asd v1 degree: 5.643\n",
      "450, (77, 96), -0.055, (1, 3), 0.041, 0.096, asd v0 degree: 7.066, asd v1 degree: 7.732\n",
      "452, (50, 105), -0.055, (3, 4), -0.032, 0.022, asd v0 degree: 4.775, asd v1 degree: 4.686\n",
      "455, (88, 90), -0.055, (2, 4), 0.016, 0.071, asd v0 degree: 4.707, asd v1 degree: 5.719\n",
      "458, (27, 83), -0.054, (2, 1), -0.053, 0.001, asd v0 degree: 5.664, asd v1 degree: 5.463\n",
      "459, (88, 100), -0.054, (2, 4), -0.051, 0.003, asd v0 degree: 4.707, asd v1 degree: 4.117\n",
      "463, (35, 97), -0.054, (2, 3), -0.049, 0.006, asd v0 degree: 3.637, asd v1 degree: 6.059\n",
      "465, (39, 75), -0.054, (3, 1), 0.027, 0.081, asd v0 degree: 6.085, asd v1 degree: 8.013\n",
      "467, (53, 85), -0.054, (3, 2), -0.023, 0.031, asd v0 degree: 4.142, asd v1 degree: 3.921\n",
      "471, (22, 113), -0.054, (2, 4), -0.041, 0.013, asd v0 degree: 6.031, asd v1 degree: 4.612\n",
      "476, (16, 95), -0.054, (1, 3), -0.038, 0.015, asd v0 degree: 7.617, asd v1 degree: 5.643\n",
      "479, (17, 96), -0.054, (1, 3), -0.031, 0.023, asd v0 degree: 8.300, asd v1 degree: 7.732\n",
      "482, (6, 48), -0.054, (2, 3), -0.016, 0.038, asd v0 degree: 4.779, asd v1 degree: 5.552\n",
      "483, (12, 16), -0.054, (2, 1), 0.111, 0.164, asd v0 degree: 4.502, asd v1 degree: 7.617\n",
      "489, (9, 45), -0.053, (2, 3), -0.024, 0.029, asd v0 degree: 4.521, asd v1 degree: 5.364\n",
      "490, (21, 76), -0.053, (2, 1), -0.052, 0.002, asd v0 degree: 5.317, asd v1 degree: 9.245\n",
      "492, (50, 113), -0.053, (3, 4), -0.049, 0.004, asd v0 degree: 4.775, asd v1 degree: 4.612\n",
      "493, (9, 66), -0.053, (2, 4), -0.048, 0.005, asd v0 degree: 4.521, asd v1 degree: 4.462\n",
      "496, (61, 68), -0.053, (2, 1), -0.046, 0.007, asd v0 degree: 4.181, asd v1 degree: 3.842\n",
      "497, (13, 17), -0.053, (2, 1), 0.139, 0.192, asd v0 degree: 4.948, asd v1 degree: 8.300\n"
     ]
    },
    {
     "data": {
      "text/plain": [
       "{(2, 4): 0.8190649798977193,\n",
       " (2, 3): 1.848815248856842,\n",
       " (1, 2): 5.558976554954975,\n",
       " (3, 4): 3.0333860804940445,\n",
       " (1, 3): 2.5193129604457005,\n",
       " (1, 4): 0.3490204686014192}"
      ]
     },
     "execution_count": 20,
     "metadata": {},
     "output_type": "execute_result"
    }
   ],
   "source": [
    "count = 0\n",
    "asd_inter_edges = []\n",
    "asd_intra_edges = []\n",
    "asd_inter_edges_inclusion = []\n",
    "asd_freq_dict = {}\n",
    "\n",
    "for i, e_idx in enumerate(reversed(sorted_edge_indices[-500:])):\n",
    "    e = td_asd_edges[e_idx].vertices\n",
    "\n",
    "    path = (td_ci[e[0]], td_ci[e[1]])\n",
    "    if path[0] > path[1]:\n",
    "        path = (path[1], path[0])\n",
    "    \n",
    "    if td_ci[e[0]] != td_ci[e[1]]:\n",
    "        if asd_freq_dict.get(path) is None:\n",
    "            asd_freq_dict[path] = 0\n",
    "        count += 1\n",
    "        if asd_mean[e] > 0:\n",
    "            asd_freq_dict[path] += asd_mean[e]\n",
    "            print(f'{i}, {td_asd_edges[e_idx]}, {(td_ci[e[0]], td_ci[e[1]])}, {td_mean[e]:.3f}, {asd_mean[e]:.3f}, asd v0 degree: {np.sum(asd_positive_mean[e[0], :]):.3f}, asd v1 degree: {np.sum(asd_positive_mean[e[1], :]):.3f}')\n",
    "        asd_inter_edges.append(asd_mean[e])\n",
    "    else:\n",
    "        asd_intra_edges.append(asd_mean[e])\n",
    "        # print(f'{i}, {td_asd_edges[e_idx]}, {(asd_td_ci[e[0]], asd_td_ci[e[1]])}, {td_mean[e]:.3f}')\n",
    "    asd_inter_edges_inclusion.append(count / (i + 1))\n",
    "\n",
    "asd_inter_edges = np.array(asd_inter_edges)\n",
    "asd_intra_edges = np.array(asd_intra_edges)\n",
    "\n",
    "asd_freq_dict"
   ]
  },
  {
   "cell_type": "code",
   "execution_count": 21,
   "metadata": {},
   "outputs": [
    {
     "data": {
      "text/plain": [
       "(152, 172, 324, 23, 153, 176)"
      ]
     },
     "execution_count": 21,
     "metadata": {},
     "output_type": "execute_result"
    }
   ],
   "source": [
    "np.sum(asd_inter_edges < 0), np.sum(asd_inter_edges > 0), len(asd_inter_edges), np.sum(asd_intra_edges < 0), np.sum(asd_intra_edges > 0), len(asd_intra_edges)"
   ]
  },
  {
   "cell_type": "code",
   "execution_count": 22,
   "metadata": {},
   "outputs": [
    {
     "data": {
      "text/plain": [
       "(-11.343608773564824,\n",
       " 14.1285762932507,\n",
       " -1.4182730767847225,\n",
       " 34.797182951342506)"
      ]
     },
     "execution_count": 22,
     "metadata": {},
     "output_type": "execute_result"
    }
   ],
   "source": [
    "np.sum(asd_inter_edges[asd_inter_edges < 0]), np.sum(asd_inter_edges[asd_inter_edges > 0]), np.sum(asd_intra_edges[asd_intra_edges < 0]), np.sum(asd_intra_edges[asd_intra_edges > 0])"
   ]
  },
  {
   "cell_type": "code",
   "execution_count": 23,
   "metadata": {},
   "outputs": [
    {
     "data": {
      "image/png": "[encoded data removed]",
      "text/plain": [
       "<Figure size 432x288 with 1 Axes>"
      ]
     },
     "metadata": {
      "needs_background": "light"
     },
     "output_type": "display_data"
    }
   ],
   "source": [
    "plt.hist(asd_inter_edges);"
   ]
  },
  {
   "cell_type": "code",
   "execution_count": 24,
   "metadata": {},
   "outputs": [
    {
     "data": {
      "image/png": "[encoded data removed]",
      "text/plain": [
       "<Figure size 432x288 with 1 Axes>"
      ]
     },
     "metadata": {
      "needs_background": "light"
     },
     "output_type": "display_data"
    }
   ],
   "source": [
    "plt.hist(asd_intra_edges);"
   ]
  },
  {
   "cell_type": "code",
   "execution_count": 26,
   "metadata": {},
   "outputs": [
    {
     "name": "stdout",
     "output_type": "stream",
     "text": [
      "negative edges:\n",
      "# of inter-edges: 3143; # of intra-edges: 735\n",
      "inter-edge ratio: 0.8290; intra-edge ratio: 0.1710\n",
      "total inter-edge weight: -265.0874; total intra-edge weight: -54.6852\n",
      "\n",
      "positive edges:\n",
      "# of inter-edges: 1234; # of intra-edges: 1558\n",
      "inter-edge ratio: 0.2390; intra-edge ratio: 0.7610\n",
      "total inter-edge weight: 77.2311; total intra-edge weight: 245.9088\n"
     ]
    }
   ],
   "source": [
    "asd_ci, asd_q = modularity.modularity_louvain_und_sign(asd_mean, qtype='sta', seed=seed)\n",
    "\n",
    "print('negative edges:')\n",
    "measure_edge_weight(asd_ci, td_mean * (td_mean < 0), edge_combo)\n",
    "\n",
    "print('\\npositive edges:')\n",
    "measure_edge_weight(asd_ci, td_mean * (td_mean > 0), edge_combo)"
   ]
  },
  {
   "cell_type": "code",
   "execution_count": 27,
   "metadata": {},
   "outputs": [
    {
     "name": "stdout",
     "output_type": "stream",
     "text": [
      "4, (82, 106), -0.118, (2, 3), 0.050, -0.068\n",
      "8, (4, 43), -0.110, (1, 3), -0.053, -0.163\n",
      "12, (13, 22), -0.107, (2, 1), -0.045, -0.152\n",
      "14, (17, 85), -0.104, (2, 1), 0.034, -0.070\n",
      "19, (8, 49), -0.097, (1, 3), 0.034, -0.063\n",
      "20, (3, 69), -0.097, (1, 2), 0.034, -0.062\n",
      "21, (34, 51), -0.096, (1, 3), 0.013, -0.083\n",
      "26, (64, 83), -0.095, (1, 2), 0.005, -0.090\n",
      "28, (51, 66), -0.095, (3, 2), 0.103, 0.008\n",
      "32, (0, 64), -0.093, (2, 1), -0.016, -0.109\n",
      "33, (45, 69), -0.093, (3, 2), -0.026, -0.118\n",
      "34, (36, 95), -0.091, (2, 3), 0.183, 0.092\n",
      "36, (83, 89), -0.091, (2, 1), 0.072, -0.019\n",
      "37, (34, 48), -0.091, (1, 3), 0.033, -0.058\n",
      "38, (9, 49), -0.090, (1, 3), 0.042, -0.048\n",
      "44, (4, 47), -0.089, (1, 3), -0.058, -0.147\n",
      "47, (2, 48), -0.089, (1, 3), 0.068, -0.021\n",
      "50, (50, 64), -0.088, (3, 1), 0.137, 0.049\n",
      "52, (45, 67), -0.088, (3, 1), 0.337, 0.248\n",
      "53, (61, 65), -0.088, (2, 1), 0.398, 0.310\n",
      "54, (37, 55), -0.088, (2, 3), 0.315, 0.227\n",
      "55, (16, 88), -0.087, (2, 1), -0.113, -0.200\n",
      "58, (1, 88), -0.087, (2, 1), 0.012, -0.075\n",
      "66, (48, 66), -0.085, (3, 2), 0.200, 0.114\n",
      "68, (53, 66), -0.085, (3, 2), -0.081, -0.166\n",
      "69, (4, 98), -0.084, (1, 3), -0.057, -0.142\n",
      "70, (8, 43), -0.084, (1, 3), -0.063, -0.147\n",
      "72, (2, 50), -0.084, (1, 3), 0.111, 0.027\n",
      "74, (64, 108), -0.084, (1, 3), 0.017, -0.067\n",
      "77, (2, 45), -0.083, (1, 3), -0.028, -0.111\n",
      "79, (51, 67), -0.083, (3, 1), 0.084, 0.001\n",
      "80, (80, 88), -0.082, (2, 1), -0.126, -0.208\n",
      "81, (39, 76), -0.082, (3, 2), 0.074, -0.008\n",
      "82, (10, 114), -0.082, (2, 3), -0.004, -0.087\n",
      "84, (4, 42), -0.082, (1, 3), -0.041, -0.123\n",
      "85, (45, 66), -0.081, (3, 2), 0.118, 0.037\n",
      "86, (3, 52), -0.081, (1, 3), 0.011, -0.071\n",
      "87, (17, 88), -0.081, (2, 1), -0.133, -0.214\n",
      "88, (27, 61), -0.081, (1, 2), -0.118, -0.200\n",
      "90, (34, 99), -0.081, (1, 3), -0.024, -0.105\n",
      "91, (25, 59), -0.081, (1, 2), -0.104, -0.185\n",
      "95, (0, 24), -0.080, (2, 1), -0.128, -0.208\n",
      "97, (19, 45), -0.080, (2, 3), -0.099, -0.178\n",
      "102, (25, 48), -0.079, (1, 3), -0.037, -0.116\n",
      "103, (1, 86), -0.079, (2, 1), 0.028, -0.051\n",
      "104, (30, 100), -0.079, (2, 3), -0.053, -0.132\n",
      "106, (7, 68), -0.079, (1, 2), -0.123, -0.202\n",
      "111, (44, 58), -0.078, (3, 2), -0.024, -0.102\n",
      "114, (8, 50), -0.078, (1, 3), 0.045, -0.033\n",
      "115, (41, 95), -0.078, (2, 3), 0.132, 0.054\n",
      "119, (15, 20), -0.077, (1, 2), 0.166, 0.089\n",
      "122, (8, 51), -0.077, (1, 3), 0.044, -0.033\n",
      "125, (11, 89), -0.076, (2, 1), 0.013, -0.063\n",
      "126, (35, 51), -0.076, (1, 3), 0.020, -0.056\n",
      "127, (60, 64), -0.076, (2, 1), 0.255, 0.179\n",
      "130, (76, 96), -0.076, (2, 3), 0.124, 0.048\n",
      "133, (44, 60), -0.075, (3, 2), -0.104, -0.179\n",
      "135, (0, 25), -0.075, (2, 1), -0.194, -0.269\n",
      "136, (61, 110), -0.075, (2, 3), -0.162, -0.238\n",
      "138, (19, 49), -0.075, (2, 3), -0.084, -0.158\n",
      "140, (3, 68), -0.074, (1, 2), 0.025, -0.049\n",
      "141, (4, 46), -0.074, (1, 3), -0.067, -0.141\n",
      "142, (74, 85), -0.074, (2, 1), 0.095, 0.021\n",
      "147, (34, 98), -0.074, (1, 3), -0.072, -0.146\n",
      "148, (12, 38), -0.074, (2, 3), -0.032, -0.106\n",
      "149, (37, 95), -0.074, (2, 3), 0.231, 0.157\n",
      "152, (55, 76), -0.074, (3, 2), 0.084, 0.010\n",
      "156, (39, 83), -0.073, (3, 2), 0.128, 0.055\n",
      "158, (9, 44), -0.073, (1, 3), 0.007, -0.066\n",
      "159, (54, 84), -0.073, (3, 1), 0.085, 0.012\n",
      "160, (49, 66), -0.073, (3, 2), 0.074, 0.001\n",
      "161, (67, 108), -0.072, (1, 3), 0.056, -0.017\n",
      "162, (53, 67), -0.072, (3, 1), -0.134, -0.206\n",
      "163, (34, 45), -0.072, (1, 3), 0.181, 0.108\n",
      "164, (77, 85), -0.072, (2, 1), 0.049, -0.023\n",
      "166, (26, 71), -0.072, (1, 2), 0.044, -0.027\n",
      "167, (4, 68), -0.072, (1, 2), 0.002, -0.069\n",
      "170, (25, 83), -0.071, (1, 2), 0.013, -0.058\n",
      "174, (58, 105), -0.071, (2, 3), 0.046, -0.025\n",
      "176, (6, 78), -0.071, (1, 2), -0.152, -0.223\n",
      "179, (6, 50), -0.071, (1, 3), 0.007, -0.064\n",
      "181, (10, 115), -0.071, (2, 3), -0.031, -0.102\n",
      "183, (6, 80), -0.071, (1, 2), -0.170, -0.241\n",
      "184, (80, 84), -0.071, (2, 1), 0.268, 0.197\n",
      "185, (15, 59), -0.071, (1, 2), 0.011, -0.060\n",
      "186, (17, 89), -0.070, (2, 1), -0.102, -0.173\n",
      "187, (34, 61), -0.070, (1, 2), -0.076, -0.147\n",
      "189, (41, 85), -0.070, (2, 1), 0.101, 0.030\n",
      "190, (39, 77), -0.070, (3, 2), 0.128, 0.057\n",
      "191, (8, 45), -0.070, (1, 3), -0.001, -0.071\n",
      "192, (2, 42), -0.070, (1, 3), -0.099, -0.169\n",
      "193, (6, 110), -0.070, (1, 3), -0.098, -0.168\n",
      "194, (81, 88), -0.070, (2, 1), -0.127, -0.197\n",
      "195, (9, 59), -0.070, (1, 2), 0.071, 0.001\n",
      "197, (37, 89), -0.070, (2, 1), 0.098, 0.029\n",
      "198, (7, 69), -0.070, (1, 2), -0.052, -0.121\n",
      "204, (37, 99), -0.069, (2, 3), 0.166, 0.097\n",
      "207, (88, 98), -0.069, (1, 3), -0.043, -0.112\n",
      "208, (23, 69), -0.069, (1, 2), 0.034, -0.035\n",
      "209, (34, 108), -0.069, (1, 3), 0.059, -0.010\n",
      "211, (60, 110), -0.069, (2, 3), -0.139, -0.207\n",
      "212, (12, 42), -0.069, (2, 3), -0.086, -0.155\n",
      "214, (40, 112), -0.068, (2, 3), 0.023, -0.046\n",
      "215, (54, 76), -0.068, (3, 2), 0.080, 0.012\n",
      "218, (24, 59), -0.068, (1, 2), -0.060, -0.128\n",
      "223, (15, 57), -0.068, (1, 2), -0.097, -0.164\n",
      "224, (27, 48), -0.068, (1, 3), -0.012, -0.079\n",
      "228, (35, 61), -0.067, (1, 2), -0.005, -0.072\n",
      "229, (32, 86), -0.067, (2, 1), -0.027, -0.095\n",
      "231, (1, 3), -0.067, (2, 1), 0.044, -0.023\n",
      "232, (1, 24), -0.067, (2, 1), -0.156, -0.223\n",
      "237, (9, 78), -0.067, (1, 2), -0.103, -0.170\n",
      "241, (16, 54), -0.067, (2, 3), 0.016, -0.050\n",
      "242, (22, 102), -0.067, (1, 3), -0.113, -0.179\n",
      "248, (55, 77), -0.066, (3, 2), 0.028, -0.038\n",
      "251, (1, 89), -0.066, (2, 1), 0.088, 0.022\n",
      "252, (19, 44), -0.066, (2, 3), -0.095, -0.161\n",
      "253, (19, 67), -0.066, (2, 1), 0.026, -0.040\n",
      "254, (48, 56), -0.066, (3, 2), -0.092, -0.158\n",
      "256, (67, 69), -0.066, (1, 2), 0.290, 0.225\n",
      "257, (4, 96), -0.066, (1, 3), -0.098, -0.163\n",
      "259, (83, 85), -0.066, (2, 1), 0.201, 0.135\n",
      "260, (23, 90), -0.066, (1, 3), 0.048, -0.017\n",
      "261, (29, 107), -0.066, (2, 3), -0.086, -0.151\n",
      "265, (20, 84), -0.065, (2, 1), 0.083, 0.017\n",
      "267, (6, 45), -0.065, (1, 3), -0.048, -0.113\n",
      "270, (4, 45), -0.065, (1, 3), 0.004, -0.061\n",
      "274, (34, 53), -0.065, (1, 3), -0.026, -0.091\n",
      "277, (44, 67), -0.065, (3, 1), 0.163, 0.098\n",
      "278, (18, 67), -0.065, (2, 1), -0.048, -0.112\n",
      "280, (47, 58), -0.064, (3, 2), -0.107, -0.172\n",
      "281, (29, 89), -0.064, (2, 1), -0.160, -0.224\n",
      "282, (64, 80), -0.064, (1, 2), -0.138, -0.202\n",
      "284, (55, 82), -0.064, (3, 2), 0.001, -0.063\n",
      "287, (2, 47), -0.064, (1, 3), -0.103, -0.167\n",
      "288, (48, 67), -0.064, (3, 1), 0.142, 0.078\n",
      "291, (80, 107), -0.064, (2, 3), -0.048, -0.111\n",
      "292, (78, 92), -0.063, (2, 3), -0.166, -0.229\n",
      "293, (8, 44), -0.063, (1, 3), -0.015, -0.078\n",
      "296, (6, 90), -0.063, (1, 3), 0.084, 0.020\n",
      "297, (4, 44), -0.063, (1, 3), -0.011, -0.074\n",
      "298, (35, 60), -0.063, (1, 2), -0.014, -0.077\n",
      "299, (61, 64), -0.063, (2, 1), 0.063, -0.000\n",
      "309, (39, 87), -0.062, (3, 1), 0.249, 0.187\n",
      "310, (11, 22), -0.062, (2, 1), -0.039, -0.101\n",
      "311, (65, 69), -0.062, (1, 2), -0.032, -0.094\n",
      "312, (24, 103), -0.062, (1, 3), -0.043, -0.105\n",
      "314, (6, 68), -0.062, (1, 2), -0.114, -0.176\n",
      "316, (36, 38), -0.062, (2, 3), 0.416, 0.355\n",
      "317, (10, 90), -0.062, (2, 3), -0.089, -0.150\n",
      "318, (45, 58), -0.061, (3, 2), -0.055, -0.117\n",
      "319, (27, 59), -0.061, (1, 2), -0.011, -0.072\n",
      "320, (50, 67), -0.061, (3, 1), 0.166, 0.105\n",
      "321, (49, 58), -0.061, (3, 2), 0.060, -0.002\n",
      "322, (34, 49), -0.061, (1, 3), -0.001, -0.062\n",
      "323, (1, 25), -0.061, (2, 1), -0.190, -0.252\n",
      "324, (47, 67), -0.061, (3, 1), 0.042, -0.019\n",
      "326, (2, 44), -0.061, (1, 3), -0.065, -0.126\n",
      "332, (76, 89), -0.061, (2, 1), -0.097, -0.157\n",
      "334, (2, 46), -0.061, (1, 3), -0.146, -0.207\n",
      "337, (22, 100), -0.061, (1, 3), -0.089, -0.150\n",
      "341, (27, 112), -0.060, (1, 3), -0.032, -0.093\n",
      "342, (10, 52), -0.060, (2, 3), 0.022, -0.038\n",
      "343, (35, 59), -0.060, (1, 2), -0.033, -0.093\n",
      "344, (84, 100), -0.060, (1, 3), -0.098, -0.159\n",
      "346, (38, 76), -0.060, (3, 2), 0.156, 0.096\n",
      "348, (35, 80), -0.060, (1, 2), -0.110, -0.170\n",
      "351, (51, 58), -0.060, (3, 2), 0.116, 0.056\n",
      "352, (2, 52), -0.060, (1, 3), -0.019, -0.079\n",
      "356, (34, 50), -0.060, (1, 3), 0.101, 0.041\n",
      "360, (56, 110), -0.059, (2, 3), -0.067, -0.127\n",
      "364, (13, 27), -0.059, (2, 1), -0.098, -0.158\n",
      "366, (40, 95), -0.059, (2, 3), 0.139, 0.080\n",
      "367, (1, 85), -0.059, (2, 1), 0.008, -0.051\n",
      "368, (49, 67), -0.059, (3, 1), 0.079, 0.020\n",
      "369, (39, 82), -0.059, (3, 2), 0.088, 0.029\n",
      "376, (86, 90), -0.059, (1, 3), -0.048, -0.106\n",
      "377, (28, 96), -0.058, (2, 3), -0.014, -0.072\n",
      "378, (81, 95), -0.058, (2, 3), 0.087, 0.028\n",
      "379, (57, 110), -0.058, (2, 3), -0.036, -0.095\n",
      "380, (33, 49), -0.058, (2, 3), -0.073, -0.131\n",
      "381, (89, 99), -0.058, (1, 3), 0.078, 0.019\n",
      "385, (76, 85), -0.058, (2, 1), 0.035, -0.023\n",
      "386, (5, 12), -0.058, (1, 2), -0.004, -0.062\n",
      "388, (82, 96), -0.058, (2, 3), -0.011, -0.069\n",
      "389, (40, 93), -0.058, (2, 3), -0.105, -0.162\n",
      "390, (45, 60), -0.058, (3, 2), -0.142, -0.199\n",
      "393, (15, 32), -0.057, (1, 2), -0.057, -0.114\n",
      "394, (2, 43), -0.057, (1, 3), -0.102, -0.160\n",
      "396, (45, 59), -0.057, (3, 2), -0.032, -0.089\n",
      "397, (35, 47), -0.057, (1, 3), 0.096, 0.038\n",
      "398, (53, 84), -0.057, (3, 1), 0.025, -0.032\n",
      "400, (25, 58), -0.057, (1, 2), -0.124, -0.181\n",
      "401, (5, 43), -0.057, (1, 3), -0.036, -0.093\n",
      "402, (80, 92), -0.057, (2, 3), -0.195, -0.252\n",
      "403, (48, 58), -0.057, (3, 2), 0.233, 0.176\n",
      "404, (12, 26), -0.057, (2, 1), -0.032, -0.089\n",
      "405, (8, 57), -0.057, (1, 2), -0.099, -0.155\n",
      "406, (9, 43), -0.057, (1, 3), -0.088, -0.144\n",
      "407, (34, 83), -0.057, (1, 2), -0.085, -0.141\n",
      "411, (2, 69), -0.056, (1, 2), 0.033, -0.024\n",
      "412, (26, 96), -0.056, (1, 3), 0.029, -0.027\n",
      "413, (58, 110), -0.056, (2, 3), -0.080, -0.136\n",
      "414, (4, 57), -0.056, (1, 2), -0.109, -0.165\n",
      "416, (59, 65), -0.056, (2, 1), 0.061, 0.004\n",
      "419, (5, 48), -0.056, (1, 3), 0.023, -0.033\n",
      "422, (31, 100), -0.056, (2, 3), -0.067, -0.123\n",
      "426, (35, 69), -0.056, (1, 2), 0.073, 0.017\n",
      "427, (18, 50), -0.056, (2, 3), -0.101, -0.156\n",
      "429, (8, 59), -0.056, (1, 2), 0.064, 0.008\n",
      "432, (1, 35), -0.055, (2, 1), -0.132, -0.187\n",
      "434, (7, 42), -0.055, (1, 3), -0.147, -0.202\n",
      "437, (13, 85), -0.055, (2, 1), -0.045, -0.100\n",
      "438, (82, 107), -0.055, (2, 3), 0.008, -0.048\n",
      "440, (25, 61), -0.055, (1, 2), -0.154, -0.209\n",
      "443, (12, 25), -0.055, (2, 1), -0.081, -0.136\n",
      "444, (23, 61), -0.055, (1, 2), -0.175, -0.230\n",
      "445, (19, 65), -0.055, (2, 1), -0.167, -0.222\n",
      "446, (50, 65), -0.055, (3, 1), 0.107, 0.052\n",
      "447, (34, 46), -0.055, (1, 3), 0.012, -0.043\n",
      "448, (63, 95), -0.055, (2, 3), 0.029, -0.026\n",
      "450, (77, 96), -0.055, (2, 3), 0.096, 0.041\n",
      "453, (48, 64), -0.055, (3, 1), -0.049, -0.104\n",
      "455, (88, 90), -0.055, (1, 3), 0.071, 0.016\n",
      "457, (76, 106), -0.055, (2, 3), -0.027, -0.082\n",
      "458, (27, 83), -0.054, (1, 2), 0.001, -0.053\n",
      "459, (88, 100), -0.054, (1, 3), 0.003, -0.051\n",
      "462, (58, 96), -0.054, (2, 3), -0.042, -0.096\n",
      "463, (35, 97), -0.054, (1, 3), 0.006, -0.049\n",
      "465, (39, 75), -0.054, (3, 2), 0.081, 0.027\n",
      "466, (14, 111), -0.054, (1, 3), -0.068, -0.122\n",
      "467, (53, 85), -0.054, (3, 1), 0.031, -0.023\n",
      "469, (7, 19), -0.054, (1, 2), -0.006, -0.060\n",
      "471, (22, 113), -0.054, (1, 3), 0.013, -0.041\n",
      "472, (54, 64), -0.054, (3, 1), -0.117, -0.171\n",
      "473, (84, 101), -0.054, (1, 3), -0.081, -0.135\n",
      "475, (33, 102), -0.054, (2, 3), -0.022, -0.076\n",
      "476, (16, 95), -0.054, (2, 3), 0.015, -0.038\n",
      "477, (27, 53), -0.054, (1, 3), -0.016, -0.070\n",
      "479, (17, 96), -0.054, (2, 3), 0.023, -0.031\n",
      "480, (36, 64), -0.054, (2, 1), -0.101, -0.155\n",
      "481, (10, 97), -0.054, (2, 3), -0.077, -0.131\n",
      "482, (6, 48), -0.054, (1, 3), 0.038, -0.016\n",
      "487, (24, 83), -0.054, (1, 2), -0.015, -0.068\n",
      "489, (9, 45), -0.053, (1, 3), 0.029, -0.024\n",
      "493, (9, 66), -0.053, (1, 2), 0.005, -0.048\n",
      "494, (84, 112), -0.053, (1, 3), -0.057, -0.110\n",
      "495, (9, 47), -0.053, (1, 3), -0.073, -0.127\n",
      "498, (60, 86), -0.053, (2, 1), -0.044, -0.097\n",
      "499, (86, 111), -0.053, (1, 3), -0.047, -0.101\n"
     ]
    },
    {
     "data": {
      "text/plain": [
       "(133, 117, 250, 42, 208, 250)"
      ]
     },
     "execution_count": 27,
     "metadata": {},
     "output_type": "execute_result"
    }
   ],
   "source": [
    "count = 0\n",
    "inter_edges = []\n",
    "intra_edges = []\n",
    "inter_edges_inclusion = []\n",
    "for i, e_idx in enumerate(reversed(sorted_edge_indices[-500:])):\n",
    "    e = td_asd_edges[e_idx].vertices\n",
    "    \n",
    "    if asd_ci[e[0]] != asd_ci[e[1]]:\n",
    "        count += 1\n",
    "        # if asd_mean[e] > 0:\n",
    "        print(f'{i}, {td_asd_edges[e_idx]}, {(asd_ci[e[0]], asd_ci[e[1]])}, {asd_mean[e]:.3f}, {td_mean[e]:.3f}')\n",
    "        inter_edges.append(asd_mean[e])\n",
    "    else:\n",
    "        intra_edges.append(asd_mean[e])\n",
    "        # print(f'{i}, {td_asd_edges[e_idx]}, {(asd_td_ci[e[0]], asd_td_ci[e[1]])}, {td_mean[e]:.3f}')\n",
    "    inter_edges_inclusion.append(count / (i + 1))\n",
    "\n",
    "inter_edges = np.array(inter_edges)\n",
    "intra_edges = np.array(intra_edges)\n",
    "\n",
    "np.sum(inter_edges < 0), np.sum(inter_edges > 0), len(inter_edges), np.sum(intra_edges < 0), np.sum(intra_edges > 0), len(intra_edges)"
   ]
  },
  {
   "cell_type": "code",
   "execution_count": 28,
   "metadata": {},
   "outputs": [
    {
     "data": {
      "image/png": "[encoded data removed]",
      "text/plain": [
       "<Figure size 432x288 with 1 Axes>"
      ]
     },
     "metadata": {
      "needs_background": "light"
     },
     "output_type": "display_data"
    }
   ],
   "source": [
    "plt.hist(inter_edges, bins=50);"
   ]
  },
  {
   "cell_type": "code",
   "execution_count": 29,
   "metadata": {},
   "outputs": [
    {
     "data": {
      "image/png": "[encoded data removed]",
      "text/plain": [
       "<Figure size 432x288 with 1 Axes>"
      ]
     },
     "metadata": {
      "needs_background": "light"
     },
     "output_type": "display_data"
    }
   ],
   "source": [
    "plt.hist(intra_edges, bins=50);"
   ]
  },
  {
   "cell_type": "code",
   "execution_count": 30,
   "metadata": {},
   "outputs": [
    {
     "data": {
      "text/plain": [
       "[<matplotlib.lines.Line2D at 0x10f8878e0>]"
      ]
     },
     "execution_count": 30,
     "metadata": {},
     "output_type": "execute_result"
    },
    {
     "data": {
      "image/png": "[encoded data removed]",
      "text/plain": [
       "<Figure size 432x288 with 1 Axes>"
      ]
     },
     "metadata": {
      "needs_background": "light"
     },
     "output_type": "display_data"
    }
   ],
   "source": [
    "plt.plot(inter_edges_inclusion)"
   ]
  },
  {
   "cell_type": "code",
   "execution_count": null,
   "metadata": {},
   "outputs": [],
   "source": []
  }
 ],
 "metadata": {
  "kernelspec": {
   "display_name": "Python 3.9.10 ('dense-graph')",
   "language": "python",
   "name": "python3"
  },
  "language_info": {
   "codemirror_mode": {
    "name": "ipython",
    "version": 3
   },
   "file_extension": ".py",
   "mimetype": "text/x-python",
   "name": "python",
   "nbconvert_exporter": "python",
   "pygments_lexer": "ipython3",
   "version": "3.9.10"
  },
  "orig_nbformat": 4,
  "vscode": {
   "interpreter": {
    "hash": "811f3c137293eb818675d074a17586b7ffbed456859389dc1f2bedb7227e678f"
   }
  }
 },
 "nbformat": 4,
 "nbformat_minor": 2
}
